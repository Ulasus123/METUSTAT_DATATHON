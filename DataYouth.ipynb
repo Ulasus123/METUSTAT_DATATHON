{
 "cells": [
  {
   "cell_type": "markdown",
   "source": "# Notebook for preselection of Tüpraş Datathon",
   "metadata": {
    "cell_id": "babe4cb0-2082-47d2-86cd-9387b86b5827",
    "tags": [],
    "deepnote_cell_type": "markdown",
    "deepnote_cell_height": 186
   }
  },
  {
   "cell_type": "markdown",
   "source": "#### Ulaş Filiz\n#### Öykü Büyükakın\n#### Belemir Atik",
   "metadata": {
    "cell_id": "1765c665-09aa-49d8-8ee3-b38504b5fc7c",
    "tags": [],
    "deepnote_cell_type": "markdown",
    "deepnote_cell_height": 142
   },
   "outputs": [],
   "execution_count": null
  },
  {
   "cell_type": "markdown",
   "source": "First step is to import libraries, pandas, numpy and matplotlib are the most important libraries to be used.Apart from these, ML libraries and encoding prediction libraries are used.",
   "metadata": {
    "cell_id": "a5ede48a-112e-4551-af51-a66c9f3e4f10",
    "tags": [],
    "deepnote_cell_type": "markdown",
    "deepnote_cell_height": 162
   }
  },
  {
   "cell_type": "code",
   "source": "import pandas as pd\nimport numpy as np\nimport matplotlib.pyplot as plt\nimport seaborn as sns\nimport sklearn.preprocessing\nimport cchardet as chardet \nfrom pathlib import Path\nimport sys\nfrom sklearn.impute import SimpleImputer\nfrom sklearn.model_selection import train_test_split\nimport seaborn as sns\nimport warnings\nwarnings.filterwarnings(\"ignore\")",
   "metadata": {
    "cell_id": "d630603e-8ade-4b88-a547-fddba0d9b583",
    "tags": [],
    "deepnote_to_be_reexecuted": false,
    "source_hash": "88cce527",
    "execution_start": 1647287777861,
    "execution_millis": 1550,
    "deepnote_cell_type": "code",
    "deepnote_cell_height": 297
   },
   "outputs": [],
   "execution_count": 1
  },
  {
   "cell_type": "markdown",
   "source": "Cchardet is a fast version of Chardet library, which is an encoding prediction tool. We used it because standard encoding methods were not enough.As you can see the first standard encoding predicting was not successful on the data.",
   "metadata": {
    "cell_id": "b7422402-097d-4e89-be54-666c6408fcc8",
    "tags": [],
    "deepnote_cell_type": "markdown",
    "deepnote_cell_height": 119.5625
   }
  },
  {
   "cell_type": "code",
   "source": "\"\"\"A tool for reading text files with an unknown encoding.\"\"\"\n\ndef read_confidently(filename):\n    \"\"\"Detect encoding and return decoded text, encoding, and confidence level.\"\"\"\n    filepath = Path(\"/work/data.set.csv\")\n\n    # We must read as binary (bytes) because we don't yet know encoding\n    blob = filepath.read_bytes()\n\n    detection = chardet.detect(blob)\n    encoding = detection[\"encoding\"]\n    confidence = detection[\"confidence\"]\n    text = blob.decode(encoding)\n\n    return text, encoding, confidence\n\n\n\ntext, encoding, confidence = read_confidently(\"/work/data.set.csv\")\n\n\nprint(encoding)\ntext = text.split('\\n')\n\ndata=[]\nfor each in text:\n  temp = each.split(';')\n  data.append(temp)\n\ndf = pd.DataFrame(data[1:], columns=data[0])",
   "metadata": {
    "cell_id": "d3eb28bf-156d-457f-85f8-274f4af4dae4",
    "tags": [],
    "deepnote_to_be_reexecuted": false,
    "source_hash": "5f2f8d5e",
    "execution_start": 1647287779411,
    "execution_millis": 151,
    "deepnote_cell_type": "code",
    "deepnote_cell_height": 634.1875
   },
   "outputs": [
    {
     "name": "stdout",
     "text": "ISO-8859-9\n",
     "output_type": "stream"
    }
   ],
   "execution_count": 2
  },
  {
   "cell_type": "markdown",
   "source": "ISO-8859-9 encoding standard is a member of ISO 8859 family. It is an encoding standart made by ISO. ISO 8859-9 was specific for Turkish characters.",
   "metadata": {
    "cell_id": "c3be0dbc-c50e-4b40-bb6c-cbb88bfdc0a8",
    "tags": [],
    "deepnote_cell_type": "markdown",
    "deepnote_cell_height": 97.171875
   }
  },
  {
   "cell_type": "code",
   "source": "# Reading dataset\ndata = pd.read_csv( \"/work/data.set.csv\",encoding='ISO-8859-9', sep=\";\")",
   "metadata": {
    "cell_id": "31452b7f-2a3f-425f-a140-2dc8fd9ee7ed",
    "tags": [],
    "deepnote_to_be_reexecuted": false,
    "source_hash": "8eac625a",
    "execution_start": 1647287779450,
    "execution_millis": 12,
    "deepnote_cell_type": "code",
    "deepnote_cell_height": 99
   },
   "outputs": [],
   "execution_count": 3
  },
  {
   "cell_type": "markdown",
   "source": "## Preprocessing",
   "metadata": {
    "cell_id": "5f69ff66-7dcc-4f08-b3ff-59331efbebd1",
    "tags": [],
    "deepnote_cell_type": "markdown",
    "deepnote_cell_height": 122
   }
  },
  {
   "cell_type": "markdown",
   "source": "### Data observation\nIn this section, data will be checked superficially.",
   "metadata": {
    "cell_id": "5b7cdee0-c2be-494b-9560-8be6bd219ea8",
    "tags": [],
    "deepnote_cell_type": "markdown",
    "deepnote_cell_height": 170
   }
  },
  {
   "cell_type": "code",
   "source": "data.head(10) # Checking first 10 elements",
   "metadata": {
    "cell_id": "1d93b6ef-3f29-49b3-ab76-a299a4c26a1b",
    "tags": [],
    "deepnote_to_be_reexecuted": false,
    "source_hash": "6f731861",
    "execution_start": 1647287779496,
    "execution_millis": 69,
    "deepnote_cell_type": "code",
    "deepnote_cell_height": 613
   },
   "outputs": [
    {
     "output_type": "execute_result",
     "execution_count": 4,
     "data": {
      "application/vnd.deepnote.dataframe.v3+json": {
       "column_count": 14,
       "row_count": 10,
       "columns": [
        {
         "name": "Sütun1",
         "dtype": "int64",
         "stats": {
          "unique_count": 10,
          "nan_count": 0,
          "min": "149",
          "max": "4819",
          "histogram": [
           {
            "bin_start": 149,
            "bin_end": 616,
            "count": 1
           },
           {
            "bin_start": 616,
            "bin_end": 1083,
            "count": 1
           },
           {
            "bin_start": 1083,
            "bin_end": 1550,
            "count": 0
           },
           {
            "bin_start": 1550,
            "bin_end": 2017,
            "count": 1
           },
           {
            "bin_start": 2017,
            "bin_end": 2484,
            "count": 0
           },
           {
            "bin_start": 2484,
            "bin_end": 2951,
            "count": 2
           },
           {
            "bin_start": 2951,
            "bin_end": 3418,
            "count": 1
           },
           {
            "bin_start": 3418,
            "bin_end": 3885,
            "count": 2
           },
           {
            "bin_start": 3885,
            "bin_end": 4352,
            "count": 1
           },
           {
            "bin_start": 4352,
            "bin_end": 4819,
            "count": 1
           }
          ]
         }
        },
        {
         "name": "id",
         "dtype": "float64",
         "stats": {
          "unique_count": 10,
          "nan_count": 0,
          "min": "149.0",
          "max": "4819.0",
          "histogram": [
           {
            "bin_start": 149,
            "bin_end": 616,
            "count": 1
           },
           {
            "bin_start": 616,
            "bin_end": 1083,
            "count": 1
           },
           {
            "bin_start": 1083,
            "bin_end": 1550,
            "count": 0
           },
           {
            "bin_start": 1550,
            "bin_end": 2017,
            "count": 1
           },
           {
            "bin_start": 2017,
            "bin_end": 2484,
            "count": 0
           },
           {
            "bin_start": 2484,
            "bin_end": 2951,
            "count": 2
           },
           {
            "bin_start": 2951,
            "bin_end": 3418,
            "count": 1
           },
           {
            "bin_start": 3418,
            "bin_end": 3885,
            "count": 2
           },
           {
            "bin_start": 3885,
            "bin_end": 4352,
            "count": 1
           },
           {
            "bin_start": 4352,
            "bin_end": 4819,
            "count": 1
           }
          ]
         }
        },
        {
         "name": "fiyat",
         "dtype": "object",
         "stats": {
          "unique_count": 9,
          "nan_count": 0,
          "categories": [
           {
            "name": "700000",
            "count": 2
           },
           {
            "name": "275000",
            "count": 1
           },
           {
            "name": "7 others",
            "count": 7
           }
          ]
         }
        },
        {
         "name": "oda_salon_sayisi",
         "dtype": "float64",
         "stats": {
          "unique_count": 4,
          "nan_count": 0,
          "min": "3.0",
          "max": "7.0",
          "histogram": [
           {
            "bin_start": 3,
            "bin_end": 3.4,
            "count": 2
           },
           {
            "bin_start": 3.4,
            "bin_end": 3.8,
            "count": 0
           },
           {
            "bin_start": 3.8,
            "bin_end": 4.2,
            "count": 4
           },
           {
            "bin_start": 4.2,
            "bin_end": 4.6,
            "count": 0
           },
           {
            "bin_start": 4.6,
            "bin_end": 5,
            "count": 0
           },
           {
            "bin_start": 5,
            "bin_end": 5.4,
            "count": 3
           },
           {
            "bin_start": 5.4,
            "bin_end": 5.800000000000001,
            "count": 0
           },
           {
            "bin_start": 5.800000000000001,
            "bin_end": 6.2,
            "count": 0
           },
           {
            "bin_start": 6.2,
            "bin_end": 6.6,
            "count": 0
           },
           {
            "bin_start": 6.6,
            "bin_end": 7,
            "count": 1
           }
          ]
         }
        },
        {
         "name": "net_m2",
         "dtype": "float64",
         "stats": {
          "unique_count": 9,
          "nan_count": 0,
          "min": "88.0",
          "max": "230.0",
          "histogram": [
           {
            "bin_start": 88,
            "bin_end": 102.2,
            "count": 2
           },
           {
            "bin_start": 102.2,
            "bin_end": 116.4,
            "count": 2
           },
           {
            "bin_start": 116.4,
            "bin_end": 130.6,
            "count": 2
           },
           {
            "bin_start": 130.6,
            "bin_end": 144.8,
            "count": 0
           },
           {
            "bin_start": 144.8,
            "bin_end": 159,
            "count": 1
           },
           {
            "bin_start": 159,
            "bin_end": 173.2,
            "count": 0
           },
           {
            "bin_start": 173.2,
            "bin_end": 187.39999999999998,
            "count": 0
           },
           {
            "bin_start": 187.39999999999998,
            "bin_end": 201.6,
            "count": 1
           },
           {
            "bin_start": 201.6,
            "bin_end": 215.8,
            "count": 1
           },
           {
            "bin_start": 215.8,
            "bin_end": 230,
            "count": 1
           }
          ]
         }
        },
        {
         "name": "bina_yasi",
         "dtype": "float64",
         "stats": {
          "unique_count": 7,
          "nan_count": 0,
          "min": "0.0",
          "max": "35.0",
          "histogram": [
           {
            "bin_start": 0,
            "bin_end": 3.5,
            "count": 3
           },
           {
            "bin_start": 3.5,
            "bin_end": 7,
            "count": 0
           },
           {
            "bin_start": 7,
            "bin_end": 10.5,
            "count": 1
           },
           {
            "bin_start": 10.5,
            "bin_end": 14,
            "count": 1
           },
           {
            "bin_start": 14,
            "bin_end": 17.5,
            "count": 0
           },
           {
            "bin_start": 17.5,
            "bin_end": 21,
            "count": 1
           },
           {
            "bin_start": 21,
            "bin_end": 24.5,
            "count": 2
           },
           {
            "bin_start": 24.5,
            "bin_end": 28,
            "count": 0
           },
           {
            "bin_start": 28,
            "bin_end": 31.5,
            "count": 1
           },
           {
            "bin_start": 31.5,
            "bin_end": 35,
            "count": 1
           }
          ]
         }
        },
        {
         "name": "isinma_tipi",
         "dtype": "object",
         "stats": {
          "unique_count": 3,
          "nan_count": 0,
          "categories": [
           {
            "name": "Kombi",
            "count": 7
           },
           {
            "name": "Merkezi(PayÖlçer)",
            "count": 2
           },
           {
            "name": "Merkezi",
            "count": 1
           }
          ]
         }
        },
        {
         "name": "krediye_uygunluk",
         "dtype": "object",
         "stats": {
          "unique_count": 1,
          "nan_count": 0,
          "categories": [
           {
            "name": "Uygun",
            "count": 10
           }
          ]
         }
        },
        {
         "name": "bulundugu_kat",
         "dtype": "object",
         "stats": {
          "unique_count": 10,
          "nan_count": 0,
          "categories": [
           {
            "name": "Kot 1",
            "count": 1
           },
           {
            "name": "1. Kat",
            "count": 1
           },
           {
            "name": "8 others",
            "count": 8
           }
          ]
         }
        },
        {
         "name": "banyo_sayisi",
         "dtype": "float64",
         "stats": {
          "unique_count": 2,
          "nan_count": 0,
          "min": "1.0",
          "max": "2.0",
          "histogram": [
           {
            "bin_start": 1,
            "bin_end": 1.1,
            "count": 6
           },
           {
            "bin_start": 1.1,
            "bin_end": 1.2,
            "count": 0
           },
           {
            "bin_start": 1.2,
            "bin_end": 1.3,
            "count": 0
           },
           {
            "bin_start": 1.3,
            "bin_end": 1.4,
            "count": 0
           },
           {
            "bin_start": 1.4,
            "bin_end": 1.5,
            "count": 0
           },
           {
            "bin_start": 1.5,
            "bin_end": 1.6,
            "count": 0
           },
           {
            "bin_start": 1.6,
            "bin_end": 1.7000000000000002,
            "count": 0
           },
           {
            "bin_start": 1.7000000000000002,
            "bin_end": 1.8,
            "count": 0
           },
           {
            "bin_start": 1.8,
            "bin_end": 1.9,
            "count": 0
           },
           {
            "bin_start": 1.9,
            "bin_end": 2,
            "count": 4
           }
          ]
         }
        },
        {
         "name": "ilce",
         "dtype": "object",
         "stats": {
          "unique_count": 3,
          "nan_count": 0,
          "categories": [
           {
            "name": "Çankaya",
            "count": 6
           },
           {
            "name": "Keçiören",
            "count": 2
           },
           {
            "name": "Sincan",
            "count": 2
           }
          ]
         }
        },
        {
         "name": "nüfus",
         "dtype": "float64",
         "stats": {
          "unique_count": 3,
          "nan_count": 0,
          "min": "549108.0",
          "max": "938565.0",
          "histogram": [
           {
            "bin_start": 549108,
            "bin_end": 588053.7,
            "count": 2
           },
           {
            "bin_start": 588053.7,
            "bin_end": 626999.4,
            "count": 0
           },
           {
            "bin_start": 626999.4,
            "bin_end": 665945.1,
            "count": 0
           },
           {
            "bin_start": 665945.1,
            "bin_end": 704890.8,
            "count": 0
           },
           {
            "bin_start": 704890.8,
            "bin_end": 743836.5,
            "count": 0
           },
           {
            "bin_start": 743836.5,
            "bin_end": 782782.2,
            "count": 0
           },
           {
            "bin_start": 782782.2,
            "bin_end": 821727.8999999999,
            "count": 0
           },
           {
            "bin_start": 821727.8999999999,
            "bin_end": 860673.6,
            "count": 0
           },
           {
            "bin_start": 860673.6,
            "bin_end": 899619.3,
            "count": 0
           },
           {
            "bin_start": 899619.3,
            "bin_end": 938565,
            "count": 8
           }
          ]
         }
        },
        {
         "name": "eğitim",
         "dtype": "object",
         "stats": {
          "unique_count": 3,
          "nan_count": 0,
          "categories": [
           {
            "name": "Lisans",
            "count": 5
           },
           {
            "name": "Lise",
            "count": 4
           },
           {
            "name": "liSans",
            "count": 1
           }
          ]
         }
        },
        {
         "name": "okuma_yazma_bilmeyen",
         "dtype": "object",
         "stats": {
          "unique_count": 3,
          "nan_count": 0,
          "categories": [
           {
            "name": "0,7",
            "count": 6
           },
           {
            "name": "1,43",
            "count": 2
           },
           {
            "name": "1,44",
            "count": 2
           }
          ]
         }
        },
        {
         "name": "_deepnote_index_column",
         "dtype": "int64"
        }
       ],
       "rows": [
        {
         "Sütun1": 2612,
         "id": 2612,
         "fiyat": "275000",
         "oda_salon_sayisi": 4,
         "net_m2": 120,
         "bina_yasi": 12,
         "isinma_tipi": "Kombi",
         "krediye_uygunluk": "Uygun",
         "bulundugu_kat": "Kot 1",
         "banyo_sayisi": 1,
         "ilce": "Çankaya",
         "nüfus": 925828,
         "eğitim": "Lisans",
         "okuma_yazma_bilmeyen": "0,7",
         "_deepnote_index_column": 0
        },
        {
         "Sütun1": 4819,
         "id": 4819,
         "fiyat": "700000",
         "oda_salon_sayisi": 3,
         "net_m2": 88,
         "bina_yasi": 0,
         "isinma_tipi": "Merkezi(PayÖlçer)",
         "krediye_uygunluk": "Uygun",
         "bulundugu_kat": "1. Kat",
         "banyo_sayisi": 1,
         "ilce": "Çankaya",
         "nüfus": 925828,
         "eğitim": "Lisans",
         "okuma_yazma_bilmeyen": "0,7",
         "_deepnote_index_column": 1
        },
        {
         "Sütun1": 149,
         "id": 149,
         "fiyat": "980000",
         "oda_salon_sayisi": 5,
         "net_m2": 230,
         "bina_yasi": 30,
         "isinma_tipi": "Kombi",
         "krediye_uygunluk": "Uygun",
         "bulundugu_kat": "3. Kat",
         "banyo_sayisi": 2,
         "ilce": "Çankaya",
         "nüfus": 925828,
         "eğitim": "liSans",
         "okuma_yazma_bilmeyen": "0,7",
         "_deepnote_index_column": 2
        },
        {
         "Sütun1": 3628,
         "id": 3628,
         "fiyat": "385000",
         "oda_salon_sayisi": 4,
         "net_m2": 120,
         "bina_yasi": 22,
         "isinma_tipi": "Kombi",
         "krediye_uygunluk": "Uygun",
         "bulundugu_kat": "2. Kat",
         "banyo_sayisi": 1,
         "ilce": "Keçiören",
         "nüfus": 938565,
         "eğitim": "Lise",
         "okuma_yazma_bilmeyen": "1,43",
         "_deepnote_index_column": 3
        },
        {
         "Sütun1": 3936,
         "id": 3936,
         "fiyat": "700000",
         "oda_salon_sayisi": 5,
         "net_m2": 150,
         "bina_yasi": 0,
         "isinma_tipi": "Kombi",
         "krediye_uygunluk": "Uygun",
         "bulundugu_kat": "Ara Kat",
         "banyo_sayisi": 2,
         "ilce": "Çankaya",
         "nüfus": 925828,
         "eğitim": "Lisans",
         "okuma_yazma_bilmeyen": "0,7",
         "_deepnote_index_column": 4
        },
        {
         "Sütun1": 2704,
         "id": 2704,
         "fiyat": "110000",
         "oda_salon_sayisi": 4,
         "net_m2": 110,
         "bina_yasi": 20,
         "isinma_tipi": "Kombi",
         "krediye_uygunluk": "Uygun",
         "bulundugu_kat": "Bahçe Katı",
         "banyo_sayisi": 1,
         "ilce": "Sincan",
         "nüfus": 549108,
         "eğitim": "Lise",
         "okuma_yazma_bilmeyen": "1,44",
         "_deepnote_index_column": 5
        },
        {
         "Sütun1": 3793,
         "id": 3793,
         "fiyat": "347000",
         "oda_salon_sayisi": 7,
         "net_m2": 210,
         "bina_yasi": 10,
         "isinma_tipi": "Kombi",
         "krediye_uygunluk": "Uygun",
         "bulundugu_kat": "Teras Katı",
         "banyo_sayisi": 2,
         "ilce": "Sincan",
         "nüfus": 549108,
         "eğitim": "Lise",
         "okuma_yazma_bilmeyen": "1,44",
         "_deepnote_index_column": 6
        },
        {
         "Sütun1": 1049,
         "id": 1049,
         "fiyat": "495000",
         "oda_salon_sayisi": 3,
         "net_m2": 100,
         "bina_yasi": 35,
         "isinma_tipi": "Merkezi",
         "krediye_uygunluk": "Uygun",
         "bulundugu_kat": "Yüksek Giriş",
         "banyo_sayisi": 1,
         "ilce": "Çankaya",
         "nüfus": 925828,
         "eğitim": "Lisans",
         "okuma_yazma_bilmeyen": "0,7",
         "_deepnote_index_column": 7
        },
        {
         "Sütun1": 3313,
         "id": 3313,
         "fiyat": "1250000",
         "oda_salon_sayisi": 5,
         "net_m2": 195,
         "bina_yasi": 0,
         "isinma_tipi": "Merkezi(PayÖlçer)",
         "krediye_uygunluk": "Uygun",
         "bulundugu_kat": "4. Kat",
         "banyo_sayisi": 2,
         "ilce": "Keçiören",
         "nüfus": 938565,
         "eğitim": "Lise",
         "okuma_yazma_bilmeyen": "1,43",
         "_deepnote_index_column": 8
        },
        {
         "Sütun1": 1566,
         "id": 1566,
         "fiyat": "315000",
         "oda_salon_sayisi": 4,
         "net_m2": 115,
         "bina_yasi": 22,
         "isinma_tipi": "Kombi",
         "krediye_uygunluk": "Uygun",
         "bulundugu_kat": "En Üst Kat",
         "banyo_sayisi": 1,
         "ilce": "Çankaya",
         "nüfus": 925828,
         "eğitim": "Lisans",
         "okuma_yazma_bilmeyen": "0,7",
         "_deepnote_index_column": 9
        }
       ]
      },
      "text/plain": "   Sütun1      id    fiyat  oda_salon_sayisi  net_m2  bina_yasi  \\\n0    2612  2612.0   275000               4.0   120.0       12.0   \n1    4819  4819.0   700000               3.0    88.0        0.0   \n2     149   149.0   980000               5.0   230.0       30.0   \n3    3628  3628.0   385000               4.0   120.0       22.0   \n4    3936  3936.0   700000               5.0   150.0        0.0   \n5    2704  2704.0   110000               4.0   110.0       20.0   \n6    3793  3793.0   347000               7.0   210.0       10.0   \n7    1049  1049.0   495000               3.0   100.0       35.0   \n8    3313  3313.0  1250000               5.0   195.0        0.0   \n9    1566  1566.0   315000               4.0   115.0       22.0   \n\n         isinma_tipi krediye_uygunluk bulundugu_kat  banyo_sayisi      ilce  \\\n0              Kombi            Uygun         Kot 1           1.0   Çankaya   \n1  Merkezi(PayÖlçer)            Uygun        1. Kat           1.0   Çankaya   \n2              Kombi            Uygun        3. Kat           2.0   Çankaya   \n3              Kombi            Uygun        2. Kat           1.0  Keçiören   \n4              Kombi            Uygun       Ara Kat           2.0   Çankaya   \n5              Kombi            Uygun    Bahçe Katı           1.0    Sincan   \n6              Kombi            Uygun    Teras Katı           2.0    Sincan   \n7            Merkezi            Uygun  Yüksek Giriş           1.0   Çankaya   \n8  Merkezi(PayÖlçer)            Uygun        4. Kat           2.0  Keçiören   \n9              Kombi            Uygun    En Üst Kat           1.0   Çankaya   \n\n      nüfus  eğitim okuma_yazma_bilmeyen  \n0  925828.0  Lisans                  0,7  \n1  925828.0  Lisans                  0,7  \n2  925828.0  liSans                  0,7  \n3  938565.0    Lise                 1,43  \n4  925828.0  Lisans                  0,7  \n5  549108.0    Lise                 1,44  \n6  549108.0    Lise                 1,44  \n7  925828.0  Lisans                  0,7  \n8  938565.0    Lise                 1,43  \n9  925828.0  Lisans                  0,7  ",
      "text/html": "<div>\n<style scoped>\n    .dataframe tbody tr th:only-of-type {\n        vertical-align: middle;\n    }\n\n    .dataframe tbody tr th {\n        vertical-align: top;\n    }\n\n    .dataframe thead th {\n        text-align: right;\n    }\n</style>\n<table border=\"1\" class=\"dataframe\">\n  <thead>\n    <tr style=\"text-align: right;\">\n      <th></th>\n      <th>Sütun1</th>\n      <th>id</th>\n      <th>fiyat</th>\n      <th>oda_salon_sayisi</th>\n      <th>net_m2</th>\n      <th>bina_yasi</th>\n      <th>isinma_tipi</th>\n      <th>krediye_uygunluk</th>\n      <th>bulundugu_kat</th>\n      <th>banyo_sayisi</th>\n      <th>ilce</th>\n      <th>nüfus</th>\n      <th>eğitim</th>\n      <th>okuma_yazma_bilmeyen</th>\n    </tr>\n  </thead>\n  <tbody>\n    <tr>\n      <th>0</th>\n      <td>2612</td>\n      <td>2612.0</td>\n      <td>275000</td>\n      <td>4.0</td>\n      <td>120.0</td>\n      <td>12.0</td>\n      <td>Kombi</td>\n      <td>Uygun</td>\n      <td>Kot 1</td>\n      <td>1.0</td>\n      <td>Çankaya</td>\n      <td>925828.0</td>\n      <td>Lisans</td>\n      <td>0,7</td>\n    </tr>\n    <tr>\n      <th>1</th>\n      <td>4819</td>\n      <td>4819.0</td>\n      <td>700000</td>\n      <td>3.0</td>\n      <td>88.0</td>\n      <td>0.0</td>\n      <td>Merkezi(PayÖlçer)</td>\n      <td>Uygun</td>\n      <td>1. Kat</td>\n      <td>1.0</td>\n      <td>Çankaya</td>\n      <td>925828.0</td>\n      <td>Lisans</td>\n      <td>0,7</td>\n    </tr>\n    <tr>\n      <th>2</th>\n      <td>149</td>\n      <td>149.0</td>\n      <td>980000</td>\n      <td>5.0</td>\n      <td>230.0</td>\n      <td>30.0</td>\n      <td>Kombi</td>\n      <td>Uygun</td>\n      <td>3. Kat</td>\n      <td>2.0</td>\n      <td>Çankaya</td>\n      <td>925828.0</td>\n      <td>liSans</td>\n      <td>0,7</td>\n    </tr>\n    <tr>\n      <th>3</th>\n      <td>3628</td>\n      <td>3628.0</td>\n      <td>385000</td>\n      <td>4.0</td>\n      <td>120.0</td>\n      <td>22.0</td>\n      <td>Kombi</td>\n      <td>Uygun</td>\n      <td>2. Kat</td>\n      <td>1.0</td>\n      <td>Keçiören</td>\n      <td>938565.0</td>\n      <td>Lise</td>\n      <td>1,43</td>\n    </tr>\n    <tr>\n      <th>4</th>\n      <td>3936</td>\n      <td>3936.0</td>\n      <td>700000</td>\n      <td>5.0</td>\n      <td>150.0</td>\n      <td>0.0</td>\n      <td>Kombi</td>\n      <td>Uygun</td>\n      <td>Ara Kat</td>\n      <td>2.0</td>\n      <td>Çankaya</td>\n      <td>925828.0</td>\n      <td>Lisans</td>\n      <td>0,7</td>\n    </tr>\n    <tr>\n      <th>5</th>\n      <td>2704</td>\n      <td>2704.0</td>\n      <td>110000</td>\n      <td>4.0</td>\n      <td>110.0</td>\n      <td>20.0</td>\n      <td>Kombi</td>\n      <td>Uygun</td>\n      <td>Bahçe Katı</td>\n      <td>1.0</td>\n      <td>Sincan</td>\n      <td>549108.0</td>\n      <td>Lise</td>\n      <td>1,44</td>\n    </tr>\n    <tr>\n      <th>6</th>\n      <td>3793</td>\n      <td>3793.0</td>\n      <td>347000</td>\n      <td>7.0</td>\n      <td>210.0</td>\n      <td>10.0</td>\n      <td>Kombi</td>\n      <td>Uygun</td>\n      <td>Teras Katı</td>\n      <td>2.0</td>\n      <td>Sincan</td>\n      <td>549108.0</td>\n      <td>Lise</td>\n      <td>1,44</td>\n    </tr>\n    <tr>\n      <th>7</th>\n      <td>1049</td>\n      <td>1049.0</td>\n      <td>495000</td>\n      <td>3.0</td>\n      <td>100.0</td>\n      <td>35.0</td>\n      <td>Merkezi</td>\n      <td>Uygun</td>\n      <td>Yüksek Giriş</td>\n      <td>1.0</td>\n      <td>Çankaya</td>\n      <td>925828.0</td>\n      <td>Lisans</td>\n      <td>0,7</td>\n    </tr>\n    <tr>\n      <th>8</th>\n      <td>3313</td>\n      <td>3313.0</td>\n      <td>1250000</td>\n      <td>5.0</td>\n      <td>195.0</td>\n      <td>0.0</td>\n      <td>Merkezi(PayÖlçer)</td>\n      <td>Uygun</td>\n      <td>4. Kat</td>\n      <td>2.0</td>\n      <td>Keçiören</td>\n      <td>938565.0</td>\n      <td>Lise</td>\n      <td>1,43</td>\n    </tr>\n    <tr>\n      <th>9</th>\n      <td>1566</td>\n      <td>1566.0</td>\n      <td>315000</td>\n      <td>4.0</td>\n      <td>115.0</td>\n      <td>22.0</td>\n      <td>Kombi</td>\n      <td>Uygun</td>\n      <td>En Üst Kat</td>\n      <td>1.0</td>\n      <td>Çankaya</td>\n      <td>925828.0</td>\n      <td>Lisans</td>\n      <td>0,7</td>\n    </tr>\n  </tbody>\n</table>\n</div>"
     },
     "metadata": {}
    }
   ],
   "execution_count": 4
  },
  {
   "cell_type": "code",
   "source": "print(data.info()) # Data is being checked",
   "metadata": {
    "cell_id": "300344d5-88ce-48eb-a81b-5e31ad5e6d07",
    "tags": [],
    "deepnote_to_be_reexecuted": false,
    "source_hash": "673bf1dd",
    "execution_start": 1647287779520,
    "execution_millis": 45,
    "deepnote_cell_type": "code",
    "deepnote_cell_height": 536.125
   },
   "outputs": [
    {
     "name": "stdout",
     "text": "<class 'pandas.core.frame.DataFrame'>\nRangeIndex: 4222 entries, 0 to 4221\nData columns (total 14 columns):\n #   Column                Non-Null Count  Dtype  \n---  ------                --------------  -----  \n 0   Sütun1                4222 non-null   int64  \n 1   id                    4220 non-null   float64\n 2   fiyat                 4212 non-null   object \n 3   oda_salon_sayisi      4213 non-null   float64\n 4   net_m2                4213 non-null   float64\n 5   bina_yasi             4216 non-null   float64\n 6   isinma_tipi           4218 non-null   object \n 7   krediye_uygunluk      4218 non-null   object \n 8   bulundugu_kat         4218 non-null   object \n 9   banyo_sayisi          4214 non-null   float64\n 10  ilce                  4215 non-null   object \n 11  nüfus                 4214 non-null   float64\n 12  eğitim                4217 non-null   object \n 13  okuma_yazma_bilmeyen  4217 non-null   object \ndtypes: float64(6), int64(1), object(7)\nmemory usage: 461.9+ KB\nNone\n",
     "output_type": "stream"
    }
   ],
   "execution_count": 5
  },
  {
   "cell_type": "markdown",
   "source": "Missing values are present, also there are many faulty types (object types are present).For example, banyo_sayisi variable is a discrete variable but in here it have float type.",
   "metadata": {
    "cell_id": "bcd07157-5300-4c0d-9b2b-47d3b477c25a",
    "tags": [],
    "deepnote_cell_type": "markdown",
    "deepnote_cell_height": 98
   }
  },
  {
   "cell_type": "code",
   "source": "data.describe()",
   "metadata": {
    "cell_id": "c2b29ab9-2f53-4067-b430-5ee4d2b43d56",
    "tags": [],
    "deepnote_to_be_reexecuted": false,
    "source_hash": "d786443f",
    "execution_start": 1647287779535,
    "execution_millis": 46,
    "deepnote_cell_type": "code",
    "deepnote_cell_height": 531
   },
   "outputs": [
    {
     "output_type": "execute_result",
     "execution_count": 6,
     "data": {
      "application/vnd.deepnote.dataframe.v3+json": {
       "column_count": 7,
       "row_count": 8,
       "columns": [
        {
         "name": "Sütun1",
         "dtype": "float64",
         "stats": {
          "unique_count": 8,
          "nan_count": 0,
          "min": "1.0",
          "max": "4957.0",
          "histogram": [
           {
            "bin_start": 1,
            "bin_end": 496.6,
            "count": 1
           },
           {
            "bin_start": 496.6,
            "bin_end": 992.2,
            "count": 0
           },
           {
            "bin_start": 992.2,
            "bin_end": 1487.8000000000002,
            "count": 2
           },
           {
            "bin_start": 1487.8000000000002,
            "bin_end": 1983.4,
            "count": 0
           },
           {
            "bin_start": 1983.4,
            "bin_end": 2479,
            "count": 0
           },
           {
            "bin_start": 2479,
            "bin_end": 2974.6000000000004,
            "count": 2
           },
           {
            "bin_start": 2974.6000000000004,
            "bin_end": 3470.2000000000003,
            "count": 0
           },
           {
            "bin_start": 3470.2000000000003,
            "bin_end": 3965.8,
            "count": 1
           },
           {
            "bin_start": 3965.8,
            "bin_end": 4461.400000000001,
            "count": 1
           },
           {
            "bin_start": 4461.400000000001,
            "bin_end": 4957,
            "count": 1
           }
          ]
         }
        },
        {
         "name": "id",
         "dtype": "float64",
         "stats": {
          "unique_count": 8,
          "nan_count": 0,
          "min": "1.0",
          "max": "4957.0",
          "histogram": [
           {
            "bin_start": 1,
            "bin_end": 496.6,
            "count": 1
           },
           {
            "bin_start": 496.6,
            "bin_end": 992.2,
            "count": 0
           },
           {
            "bin_start": 992.2,
            "bin_end": 1487.8000000000002,
            "count": 2
           },
           {
            "bin_start": 1487.8000000000002,
            "bin_end": 1983.4,
            "count": 0
           },
           {
            "bin_start": 1983.4,
            "bin_end": 2479,
            "count": 0
           },
           {
            "bin_start": 2479,
            "bin_end": 2974.6000000000004,
            "count": 2
           },
           {
            "bin_start": 2974.6000000000004,
            "bin_end": 3470.2000000000003,
            "count": 0
           },
           {
            "bin_start": 3470.2000000000003,
            "bin_end": 3965.8,
            "count": 1
           },
           {
            "bin_start": 3965.8,
            "bin_end": 4461.400000000001,
            "count": 1
           },
           {
            "bin_start": 4461.400000000001,
            "bin_end": 4957,
            "count": 1
           }
          ]
         }
        },
        {
         "name": "oda_salon_sayisi",
         "dtype": "float64",
         "stats": {
          "unique_count": 6,
          "nan_count": 0,
          "min": "1.0",
          "max": "4213.0",
          "histogram": [
           {
            "bin_start": 1,
            "bin_end": 422.2,
            "count": 7
           },
           {
            "bin_start": 422.2,
            "bin_end": 843.4,
            "count": 0
           },
           {
            "bin_start": 843.4,
            "bin_end": 1264.6,
            "count": 0
           },
           {
            "bin_start": 1264.6,
            "bin_end": 1685.8,
            "count": 0
           },
           {
            "bin_start": 1685.8,
            "bin_end": 2107,
            "count": 0
           },
           {
            "bin_start": 2107,
            "bin_end": 2528.2,
            "count": 0
           },
           {
            "bin_start": 2528.2,
            "bin_end": 2949.4,
            "count": 0
           },
           {
            "bin_start": 2949.4,
            "bin_end": 3370.6,
            "count": 0
           },
           {
            "bin_start": 3370.6,
            "bin_end": 3791.7999999999997,
            "count": 0
           },
           {
            "bin_start": 3791.7999999999997,
            "bin_end": 4213,
            "count": 1
           }
          ]
         }
        },
        {
         "name": "net_m2",
         "dtype": "float64",
         "stats": {
          "unique_count": 8,
          "nan_count": 0,
          "min": "-98.0",
          "max": "4213.0",
          "histogram": [
           {
            "bin_start": -98,
            "bin_end": 333.1,
            "count": 6
           },
           {
            "bin_start": 333.1,
            "bin_end": 764.2,
            "count": 1
           },
           {
            "bin_start": 764.2,
            "bin_end": 1195.3000000000002,
            "count": 0
           },
           {
            "bin_start": 1195.3000000000002,
            "bin_end": 1626.4,
            "count": 0
           },
           {
            "bin_start": 1626.4,
            "bin_end": 2057.5,
            "count": 0
           },
           {
            "bin_start": 2057.5,
            "bin_end": 2488.6000000000004,
            "count": 0
           },
           {
            "bin_start": 2488.6000000000004,
            "bin_end": 2919.7000000000003,
            "count": 0
           },
           {
            "bin_start": 2919.7000000000003,
            "bin_end": 3350.8,
            "count": 0
           },
           {
            "bin_start": 3350.8,
            "bin_end": 3781.9,
            "count": 0
           },
           {
            "bin_start": 3781.9,
            "bin_end": 4213,
            "count": 1
           }
          ]
         }
        },
        {
         "name": "bina_yasi",
         "dtype": "float64",
         "stats": {
          "unique_count": 8,
          "nan_count": 0,
          "min": "0.0",
          "max": "4216.0",
          "histogram": [
           {
            "bin_start": 0,
            "bin_end": 421.6,
            "count": 7
           },
           {
            "bin_start": 421.6,
            "bin_end": 843.2,
            "count": 0
           },
           {
            "bin_start": 843.2,
            "bin_end": 1264.8000000000002,
            "count": 0
           },
           {
            "bin_start": 1264.8000000000002,
            "bin_end": 1686.4,
            "count": 0
           },
           {
            "bin_start": 1686.4,
            "bin_end": 2108,
            "count": 0
           },
           {
            "bin_start": 2108,
            "bin_end": 2529.6000000000004,
            "count": 0
           },
           {
            "bin_start": 2529.6000000000004,
            "bin_end": 2951.2000000000003,
            "count": 0
           },
           {
            "bin_start": 2951.2000000000003,
            "bin_end": 3372.8,
            "count": 0
           },
           {
            "bin_start": 3372.8,
            "bin_end": 3794.4,
            "count": 0
           },
           {
            "bin_start": 3794.4,
            "bin_end": 4216,
            "count": 1
           }
          ]
         }
        },
        {
         "name": "banyo_sayisi",
         "dtype": "float64",
         "stats": {
          "unique_count": 6,
          "nan_count": 0,
          "min": "0.9332616787780589",
          "max": "4214.0",
          "histogram": [
           {
            "bin_start": 0.9332616787780589,
            "bin_end": 422.2399355109003,
            "count": 7
           },
           {
            "bin_start": 422.2399355109003,
            "bin_end": 843.5466093430225,
            "count": 0
           },
           {
            "bin_start": 843.5466093430225,
            "bin_end": 1264.8532831751447,
            "count": 0
           },
           {
            "bin_start": 1264.8532831751447,
            "bin_end": 1686.159957007267,
            "count": 0
           },
           {
            "bin_start": 1686.159957007267,
            "bin_end": 2107.466630839389,
            "count": 0
           },
           {
            "bin_start": 2107.466630839389,
            "bin_end": 2528.773304671511,
            "count": 0
           },
           {
            "bin_start": 2528.773304671511,
            "bin_end": 2950.0799785036334,
            "count": 0
           },
           {
            "bin_start": 2950.0799785036334,
            "bin_end": 3371.3866523357556,
            "count": 0
           },
           {
            "bin_start": 3371.3866523357556,
            "bin_end": 3792.693326167878,
            "count": 0
           },
           {
            "bin_start": 3792.693326167878,
            "bin_end": 4214,
            "count": 1
           }
          ]
         }
        },
        {
         "name": "nüfus",
         "dtype": "float64",
         "stats": {
          "unique_count": 6,
          "nan_count": 0,
          "min": "4214.0",
          "max": "938565.0",
          "histogram": [
           {
            "bin_start": 4214,
            "bin_end": 97649.1,
            "count": 1
           },
           {
            "bin_start": 97649.1,
            "bin_end": 191084.2,
            "count": 1
           },
           {
            "bin_start": 191084.2,
            "bin_end": 284519.30000000005,
            "count": 0
           },
           {
            "bin_start": 284519.30000000005,
            "bin_end": 377954.4,
            "count": 0
           },
           {
            "bin_start": 377954.4,
            "bin_end": 471389.5,
            "count": 0
           },
           {
            "bin_start": 471389.5,
            "bin_end": 564824.6000000001,
            "count": 1
           },
           {
            "bin_start": 564824.6000000001,
            "bin_end": 658259.7000000001,
            "count": 0
           },
           {
            "bin_start": 658259.7000000001,
            "bin_end": 751694.8,
            "count": 0
           },
           {
            "bin_start": 751694.8,
            "bin_end": 845129.9,
            "count": 0
           },
           {
            "bin_start": 845129.9,
            "bin_end": 938565,
            "count": 5
           }
          ]
         }
        },
        {
         "name": "_deepnote_index_column",
         "dtype": "object"
        }
       ],
       "rows": [
        {
         "Sütun1": 4222,
         "id": 4220,
         "oda_salon_sayisi": 4213,
         "net_m2": 4213,
         "bina_yasi": 4216,
         "banyo_sayisi": 4214,
         "nüfus": 4214,
         "_deepnote_index_column": "count"
        },
        {
         "Sütun1": 2482.219090478446,
         "id": 2481.7175355450236,
         "oda_salon_sayisi": 4.327794920484216,
         "net_m2": 130.33990030856873,
         "bina_yasi": 16.164373814041745,
         "banyo_sayisi": 1.4689131466540104,
         "nüfus": 873334.921689606,
         "_deepnote_index_column": "mean"
        },
        {
         "Sütun1": 1430.2481285268436,
         "id": 1430.4004374802116,
         "oda_salon_sayisi": 3.989370825789789,
         "net_m2": 52.03670736398879,
         "bina_yasi": 12.13376502184815,
         "banyo_sayisi": 0.9332616787780589,
         "nüfus": 137041.18432735067,
         "_deepnote_index_column": "std"
        },
        {
         "Sütun1": 1,
         "id": 1,
         "oda_salon_sayisi": 1,
         "net_m2": -98,
         "bina_yasi": 0,
         "banyo_sayisi": 1,
         "nüfus": 549108,
         "_deepnote_index_column": "min"
        },
        {
         "Sütun1": 1235.25,
         "id": 1234.75,
         "oda_salon_sayisi": 4,
         "net_m2": 105,
         "bina_yasi": 4,
         "banyo_sayisi": 1,
         "nüfus": 925828,
         "_deepnote_index_column": "25%"
        },
        {
         "Sütun1": 2493.5,
         "id": 2492.5,
         "oda_salon_sayisi": 4,
         "net_m2": 120,
         "bina_yasi": 16,
         "banyo_sayisi": 1,
         "nüfus": 925828,
         "_deepnote_index_column": "50%"
        },
        {
         "Sütun1": 3712.75,
         "id": 3713.75,
         "oda_salon_sayisi": 4,
         "net_m2": 140,
         "bina_yasi": 25,
         "banyo_sayisi": 2,
         "nüfus": 938565,
         "_deepnote_index_column": "75%"
        },
        {
         "Sütun1": 4957,
         "id": 4957,
         "oda_salon_sayisi": 153,
         "net_m2": 600,
         "bina_yasi": 55,
         "banyo_sayisi": 21,
         "nüfus": 938565,
         "_deepnote_index_column": "max"
        }
       ]
      },
      "text/plain": "            Sütun1           id  oda_salon_sayisi       net_m2    bina_yasi  \\\ncount  4222.000000  4220.000000       4213.000000  4213.000000  4216.000000   \nmean   2482.219090  2481.717536          4.327795   130.339900    16.164374   \nstd    1430.248129  1430.400437          3.989371    52.036707    12.133765   \nmin       1.000000     1.000000          1.000000   -98.000000     0.000000   \n25%    1235.250000  1234.750000          4.000000   105.000000     4.000000   \n50%    2493.500000  2492.500000          4.000000   120.000000    16.000000   \n75%    3712.750000  3713.750000          4.000000   140.000000    25.000000   \nmax    4957.000000  4957.000000        153.000000   600.000000    55.000000   \n\n       banyo_sayisi          nüfus  \ncount   4214.000000    4214.000000  \nmean       1.468913  873334.921690  \nstd        0.933262  137041.184327  \nmin        1.000000  549108.000000  \n25%        1.000000  925828.000000  \n50%        1.000000  925828.000000  \n75%        2.000000  938565.000000  \nmax       21.000000  938565.000000  ",
      "text/html": "<div>\n<style scoped>\n    .dataframe tbody tr th:only-of-type {\n        vertical-align: middle;\n    }\n\n    .dataframe tbody tr th {\n        vertical-align: top;\n    }\n\n    .dataframe thead th {\n        text-align: right;\n    }\n</style>\n<table border=\"1\" class=\"dataframe\">\n  <thead>\n    <tr style=\"text-align: right;\">\n      <th></th>\n      <th>Sütun1</th>\n      <th>id</th>\n      <th>oda_salon_sayisi</th>\n      <th>net_m2</th>\n      <th>bina_yasi</th>\n      <th>banyo_sayisi</th>\n      <th>nüfus</th>\n    </tr>\n  </thead>\n  <tbody>\n    <tr>\n      <th>count</th>\n      <td>4222.000000</td>\n      <td>4220.000000</td>\n      <td>4213.000000</td>\n      <td>4213.000000</td>\n      <td>4216.000000</td>\n      <td>4214.000000</td>\n      <td>4214.000000</td>\n    </tr>\n    <tr>\n      <th>mean</th>\n      <td>2482.219090</td>\n      <td>2481.717536</td>\n      <td>4.327795</td>\n      <td>130.339900</td>\n      <td>16.164374</td>\n      <td>1.468913</td>\n      <td>873334.921690</td>\n    </tr>\n    <tr>\n      <th>std</th>\n      <td>1430.248129</td>\n      <td>1430.400437</td>\n      <td>3.989371</td>\n      <td>52.036707</td>\n      <td>12.133765</td>\n      <td>0.933262</td>\n      <td>137041.184327</td>\n    </tr>\n    <tr>\n      <th>min</th>\n      <td>1.000000</td>\n      <td>1.000000</td>\n      <td>1.000000</td>\n      <td>-98.000000</td>\n      <td>0.000000</td>\n      <td>1.000000</td>\n      <td>549108.000000</td>\n    </tr>\n    <tr>\n      <th>25%</th>\n      <td>1235.250000</td>\n      <td>1234.750000</td>\n      <td>4.000000</td>\n      <td>105.000000</td>\n      <td>4.000000</td>\n      <td>1.000000</td>\n      <td>925828.000000</td>\n    </tr>\n    <tr>\n      <th>50%</th>\n      <td>2493.500000</td>\n      <td>2492.500000</td>\n      <td>4.000000</td>\n      <td>120.000000</td>\n      <td>16.000000</td>\n      <td>1.000000</td>\n      <td>925828.000000</td>\n    </tr>\n    <tr>\n      <th>75%</th>\n      <td>3712.750000</td>\n      <td>3713.750000</td>\n      <td>4.000000</td>\n      <td>140.000000</td>\n      <td>25.000000</td>\n      <td>2.000000</td>\n      <td>938565.000000</td>\n    </tr>\n    <tr>\n      <th>max</th>\n      <td>4957.000000</td>\n      <td>4957.000000</td>\n      <td>153.000000</td>\n      <td>600.000000</td>\n      <td>55.000000</td>\n      <td>21.000000</td>\n      <td>938565.000000</td>\n    </tr>\n  </tbody>\n</table>\n</div>"
     },
     "metadata": {}
    }
   ],
   "execution_count": 6
  },
  {
   "cell_type": "markdown",
   "source": "From statistical perspective, it is conclusible that the data has unlogical areas. Most significant example is that the feature 'net_m2' has -98 value, which is not a logical sample for its definition.",
   "metadata": {
    "cell_id": "69268e8d-83fb-4608-8523-cb9d438fa379",
    "tags": [],
    "deepnote_cell_type": "markdown",
    "deepnote_cell_height": 119.5625
   }
  },
  {
   "cell_type": "markdown",
   "source": "### Data Analysis and Cleaning",
   "metadata": {
    "cell_id": "1acd1d18-305a-4c8c-9e6b-7f8c906020bd",
    "tags": [],
    "deepnote_cell_type": "markdown",
    "deepnote_cell_height": 62
   }
  },
  {
   "cell_type": "code",
   "source": "#Sütunlara ait NA sayıları\nmissing_values_count = data.isnull().sum()\nprint(missing_values_count)",
   "metadata": {
    "cell_id": "c4568c8b-9172-4427-82c2-305660e76fdb",
    "tags": [],
    "deepnote_to_be_reexecuted": false,
    "source_hash": "feee7269",
    "execution_start": 1647287779583,
    "execution_millis": 8,
    "deepnote_cell_type": "code",
    "deepnote_cell_height": 430.8125
   },
   "outputs": [
    {
     "name": "stdout",
     "text": "Sütun1                   0\nid                       2\nfiyat                   10\noda_salon_sayisi         9\nnet_m2                   9\nbina_yasi                6\nisinma_tipi              4\nkrediye_uygunluk         4\nbulundugu_kat            4\nbanyo_sayisi             8\nilce                     7\nnüfus                    8\neğitim                   5\nokuma_yazma_bilmeyen     5\ndtype: int64\n",
     "output_type": "stream"
    }
   ],
   "execution_count": 7
  },
  {
   "cell_type": "code",
   "source": "total_cells = np.product(data.shape)\ntotal_missing = missing_values_count.sum()\n### Verinin % kaçı kayıp?\npercent_missing = (total_missing/total_cells) * 100\nprint(percent_missing)",
   "metadata": {
    "cell_id": "2284122c-a756-4f24-b1f7-0c58dcbd1c77",
    "tags": [],
    "deepnote_to_be_reexecuted": false,
    "source_hash": "3099f301",
    "execution_start": 1647287779593,
    "execution_millis": 4,
    "deepnote_cell_type": "code",
    "deepnote_cell_height": 184.1875
   },
   "outputs": [
    {
     "name": "stdout",
     "text": "0.13703728767679502\n",
     "output_type": "stream"
    }
   ],
   "execution_count": 8
  },
  {
   "cell_type": "markdown",
   "source": "In this code piece, percentage and placement of missing values are checked.Data has NA of 13 percent.",
   "metadata": {
    "cell_id": "13e7429c-c699-44de-b227-29ed468f9849",
    "tags": [],
    "deepnote_cell_type": "markdown",
    "deepnote_cell_height": 74.78125
   }
  },
  {
   "cell_type": "markdown",
   "source": "### Sütun1 and id variable",
   "metadata": {
    "cell_id": "ab67f316-91d6-48fa-b3e4-8af137b23151",
    "tags": [],
    "is_collapsed": false,
    "deepnote_cell_type": "text-cell-h3",
    "deepnote_cell_height": 62
   }
  },
  {
   "cell_type": "markdown",
   "source": "'id' and 'sütun1' features are identical, although id has missing values, hence it is",
   "metadata": {
    "cell_id": "6a7bafe1-f347-41d4-82e8-62f1711caf9e",
    "tags": [],
    "deepnote_cell_type": "markdown",
    "deepnote_cell_height": 104
   }
  },
  {
   "cell_type": "code",
   "source": "data['id'].isnull().unique()",
   "metadata": {
    "cell_id": "66487153-7f49-43ee-b06c-396e00850f4c",
    "tags": [],
    "deepnote_to_be_reexecuted": false,
    "source_hash": "a89d7cd0",
    "execution_start": 1647287779641,
    "execution_millis": 34,
    "deepnote_cell_type": "code",
    "deepnote_cell_height": 118.1875,
    "deepnote_output_heights": [
     21.1875
    ]
   },
   "outputs": [
    {
     "output_type": "execute_result",
     "execution_count": 9,
     "data": {
      "text/plain": "array([False,  True])"
     },
     "metadata": {}
    }
   ],
   "execution_count": 9
  },
  {
   "cell_type": "code",
   "source": "del data['id']",
   "metadata": {
    "cell_id": "b63f533b-9473-4865-850a-806143cb8751",
    "tags": [],
    "deepnote_to_be_reexecuted": false,
    "source_hash": "6f21236d",
    "execution_start": 1647287779642,
    "execution_millis": 0,
    "deepnote_cell_type": "code",
    "deepnote_cell_height": 81
   },
   "outputs": [],
   "execution_count": 10
  },
  {
   "cell_type": "markdown",
   "source": "From this code we can find the indexes of the data with NA values.Since very little data is lost and the id variable is unpredictable, we chose to delete it.",
   "metadata": {
    "cell_id": "cf72a2c1-dcc8-4fde-9af4-0129281c6500",
    "tags": [],
    "deepnote_cell_type": "markdown",
    "deepnote_cell_height": 144
   }
  },
  {
   "cell_type": "code",
   "source": "data=data.rename(columns={'Sütun1': 'id'})",
   "metadata": {
    "cell_id": "c1d1afeb-ea8a-4cdf-bf02-0972b78a16df",
    "tags": [],
    "deepnote_to_be_reexecuted": false,
    "source_hash": "b1145444",
    "execution_start": 1647287779642,
    "execution_millis": 1,
    "deepnote_cell_type": "code",
    "deepnote_cell_height": 81
   },
   "outputs": [],
   "execution_count": 11
  },
  {
   "cell_type": "code",
   "source": "data.head() #we check from here",
   "metadata": {
    "cell_id": "20b95019-0c30-4326-8951-83a019af8333",
    "tags": [],
    "deepnote_to_be_reexecuted": false,
    "source_hash": "9c18805b",
    "execution_start": 1647287779661,
    "execution_millis": 44,
    "deepnote_cell_type": "code",
    "deepnote_cell_height": 408
   },
   "outputs": [
    {
     "output_type": "execute_result",
     "execution_count": 12,
     "data": {
      "application/vnd.deepnote.dataframe.v3+json": {
       "column_count": 13,
       "row_count": 5,
       "columns": [
        {
         "name": "id",
         "dtype": "int64",
         "stats": {
          "unique_count": 5,
          "nan_count": 0,
          "min": "149",
          "max": "4819",
          "histogram": [
           {
            "bin_start": 149,
            "bin_end": 616,
            "count": 1
           },
           {
            "bin_start": 616,
            "bin_end": 1083,
            "count": 0
           },
           {
            "bin_start": 1083,
            "bin_end": 1550,
            "count": 0
           },
           {
            "bin_start": 1550,
            "bin_end": 2017,
            "count": 0
           },
           {
            "bin_start": 2017,
            "bin_end": 2484,
            "count": 0
           },
           {
            "bin_start": 2484,
            "bin_end": 2951,
            "count": 1
           },
           {
            "bin_start": 2951,
            "bin_end": 3418,
            "count": 0
           },
           {
            "bin_start": 3418,
            "bin_end": 3885,
            "count": 1
           },
           {
            "bin_start": 3885,
            "bin_end": 4352,
            "count": 1
           },
           {
            "bin_start": 4352,
            "bin_end": 4819,
            "count": 1
           }
          ]
         }
        },
        {
         "name": "fiyat",
         "dtype": "object",
         "stats": {
          "unique_count": 4,
          "nan_count": 0,
          "categories": [
           {
            "name": "700000",
            "count": 2
           },
           {
            "name": "275000",
            "count": 1
           },
           {
            "name": "2 others",
            "count": 2
           }
          ]
         }
        },
        {
         "name": "oda_salon_sayisi",
         "dtype": "float64",
         "stats": {
          "unique_count": 3,
          "nan_count": 0,
          "min": "3.0",
          "max": "5.0",
          "histogram": [
           {
            "bin_start": 3,
            "bin_end": 3.2,
            "count": 1
           },
           {
            "bin_start": 3.2,
            "bin_end": 3.4,
            "count": 0
           },
           {
            "bin_start": 3.4,
            "bin_end": 3.6,
            "count": 0
           },
           {
            "bin_start": 3.6,
            "bin_end": 3.8,
            "count": 0
           },
           {
            "bin_start": 3.8,
            "bin_end": 4,
            "count": 0
           },
           {
            "bin_start": 4,
            "bin_end": 4.2,
            "count": 2
           },
           {
            "bin_start": 4.2,
            "bin_end": 4.4,
            "count": 0
           },
           {
            "bin_start": 4.4,
            "bin_end": 4.6,
            "count": 0
           },
           {
            "bin_start": 4.6,
            "bin_end": 4.8,
            "count": 0
           },
           {
            "bin_start": 4.8,
            "bin_end": 5,
            "count": 2
           }
          ]
         }
        },
        {
         "name": "net_m2",
         "dtype": "float64",
         "stats": {
          "unique_count": 4,
          "nan_count": 0,
          "min": "88.0",
          "max": "230.0",
          "histogram": [
           {
            "bin_start": 88,
            "bin_end": 102.2,
            "count": 1
           },
           {
            "bin_start": 102.2,
            "bin_end": 116.4,
            "count": 0
           },
           {
            "bin_start": 116.4,
            "bin_end": 130.6,
            "count": 2
           },
           {
            "bin_start": 130.6,
            "bin_end": 144.8,
            "count": 0
           },
           {
            "bin_start": 144.8,
            "bin_end": 159,
            "count": 1
           },
           {
            "bin_start": 159,
            "bin_end": 173.2,
            "count": 0
           },
           {
            "bin_start": 173.2,
            "bin_end": 187.39999999999998,
            "count": 0
           },
           {
            "bin_start": 187.39999999999998,
            "bin_end": 201.6,
            "count": 0
           },
           {
            "bin_start": 201.6,
            "bin_end": 215.8,
            "count": 0
           },
           {
            "bin_start": 215.8,
            "bin_end": 230,
            "count": 1
           }
          ]
         }
        },
        {
         "name": "bina_yasi",
         "dtype": "float64",
         "stats": {
          "unique_count": 4,
          "nan_count": 0,
          "min": "0.0",
          "max": "30.0",
          "histogram": [
           {
            "bin_start": 0,
            "bin_end": 3,
            "count": 2
           },
           {
            "bin_start": 3,
            "bin_end": 6,
            "count": 0
           },
           {
            "bin_start": 6,
            "bin_end": 9,
            "count": 0
           },
           {
            "bin_start": 9,
            "bin_end": 12,
            "count": 0
           },
           {
            "bin_start": 12,
            "bin_end": 15,
            "count": 1
           },
           {
            "bin_start": 15,
            "bin_end": 18,
            "count": 0
           },
           {
            "bin_start": 18,
            "bin_end": 21,
            "count": 0
           },
           {
            "bin_start": 21,
            "bin_end": 24,
            "count": 1
           },
           {
            "bin_start": 24,
            "bin_end": 27,
            "count": 0
           },
           {
            "bin_start": 27,
            "bin_end": 30,
            "count": 1
           }
          ]
         }
        },
        {
         "name": "isinma_tipi",
         "dtype": "object",
         "stats": {
          "unique_count": 2,
          "nan_count": 0,
          "categories": [
           {
            "name": "Kombi",
            "count": 4
           },
           {
            "name": "Merkezi(PayÖlçer)",
            "count": 1
           }
          ]
         }
        },
        {
         "name": "krediye_uygunluk",
         "dtype": "object",
         "stats": {
          "unique_count": 1,
          "nan_count": 0,
          "categories": [
           {
            "name": "Uygun",
            "count": 5
           }
          ]
         }
        },
        {
         "name": "bulundugu_kat",
         "dtype": "object",
         "stats": {
          "unique_count": 5,
          "nan_count": 0,
          "categories": [
           {
            "name": "Kot 1",
            "count": 1
           },
           {
            "name": "1. Kat",
            "count": 1
           },
           {
            "name": "3 others",
            "count": 3
           }
          ]
         }
        },
        {
         "name": "banyo_sayisi",
         "dtype": "float64",
         "stats": {
          "unique_count": 2,
          "nan_count": 0,
          "min": "1.0",
          "max": "2.0",
          "histogram": [
           {
            "bin_start": 1,
            "bin_end": 1.1,
            "count": 3
           },
           {
            "bin_start": 1.1,
            "bin_end": 1.2,
            "count": 0
           },
           {
            "bin_start": 1.2,
            "bin_end": 1.3,
            "count": 0
           },
           {
            "bin_start": 1.3,
            "bin_end": 1.4,
            "count": 0
           },
           {
            "bin_start": 1.4,
            "bin_end": 1.5,
            "count": 0
           },
           {
            "bin_start": 1.5,
            "bin_end": 1.6,
            "count": 0
           },
           {
            "bin_start": 1.6,
            "bin_end": 1.7000000000000002,
            "count": 0
           },
           {
            "bin_start": 1.7000000000000002,
            "bin_end": 1.8,
            "count": 0
           },
           {
            "bin_start": 1.8,
            "bin_end": 1.9,
            "count": 0
           },
           {
            "bin_start": 1.9,
            "bin_end": 2,
            "count": 2
           }
          ]
         }
        },
        {
         "name": "ilce",
         "dtype": "object",
         "stats": {
          "unique_count": 2,
          "nan_count": 0,
          "categories": [
           {
            "name": "Çankaya",
            "count": 4
           },
           {
            "name": "Keçiören",
            "count": 1
           }
          ]
         }
        },
        {
         "name": "nüfus",
         "dtype": "float64",
         "stats": {
          "unique_count": 2,
          "nan_count": 0,
          "min": "925828.0",
          "max": "938565.0",
          "histogram": [
           {
            "bin_start": 925828,
            "bin_end": 927101.7,
            "count": 4
           },
           {
            "bin_start": 927101.7,
            "bin_end": 928375.4,
            "count": 0
           },
           {
            "bin_start": 928375.4,
            "bin_end": 929649.1,
            "count": 0
           },
           {
            "bin_start": 929649.1,
            "bin_end": 930922.8,
            "count": 0
           },
           {
            "bin_start": 930922.8,
            "bin_end": 932196.5,
            "count": 0
           },
           {
            "bin_start": 932196.5,
            "bin_end": 933470.2,
            "count": 0
           },
           {
            "bin_start": 933470.2,
            "bin_end": 934743.9,
            "count": 0
           },
           {
            "bin_start": 934743.9,
            "bin_end": 936017.6,
            "count": 0
           },
           {
            "bin_start": 936017.6,
            "bin_end": 937291.3,
            "count": 0
           },
           {
            "bin_start": 937291.3,
            "bin_end": 938565,
            "count": 1
           }
          ]
         }
        },
        {
         "name": "eğitim",
         "dtype": "object",
         "stats": {
          "unique_count": 3,
          "nan_count": 0,
          "categories": [
           {
            "name": "Lisans",
            "count": 3
           },
           {
            "name": "liSans",
            "count": 1
           },
           {
            "name": "Lise",
            "count": 1
           }
          ]
         }
        },
        {
         "name": "okuma_yazma_bilmeyen",
         "dtype": "object",
         "stats": {
          "unique_count": 2,
          "nan_count": 0,
          "categories": [
           {
            "name": "0,7",
            "count": 4
           },
           {
            "name": "1,43",
            "count": 1
           }
          ]
         }
        },
        {
         "name": "_deepnote_index_column",
         "dtype": "int64"
        }
       ],
       "rows": [
        {
         "id": 2612,
         "fiyat": "275000",
         "oda_salon_sayisi": 4,
         "net_m2": 120,
         "bina_yasi": 12,
         "isinma_tipi": "Kombi",
         "krediye_uygunluk": "Uygun",
         "bulundugu_kat": "Kot 1",
         "banyo_sayisi": 1,
         "ilce": "Çankaya",
         "nüfus": 925828,
         "eğitim": "Lisans",
         "okuma_yazma_bilmeyen": "0,7",
         "_deepnote_index_column": 0
        },
        {
         "id": 4819,
         "fiyat": "700000",
         "oda_salon_sayisi": 3,
         "net_m2": 88,
         "bina_yasi": 0,
         "isinma_tipi": "Merkezi(PayÖlçer)",
         "krediye_uygunluk": "Uygun",
         "bulundugu_kat": "1. Kat",
         "banyo_sayisi": 1,
         "ilce": "Çankaya",
         "nüfus": 925828,
         "eğitim": "Lisans",
         "okuma_yazma_bilmeyen": "0,7",
         "_deepnote_index_column": 1
        },
        {
         "id": 149,
         "fiyat": "980000",
         "oda_salon_sayisi": 5,
         "net_m2": 230,
         "bina_yasi": 30,
         "isinma_tipi": "Kombi",
         "krediye_uygunluk": "Uygun",
         "bulundugu_kat": "3. Kat",
         "banyo_sayisi": 2,
         "ilce": "Çankaya",
         "nüfus": 925828,
         "eğitim": "liSans",
         "okuma_yazma_bilmeyen": "0,7",
         "_deepnote_index_column": 2
        },
        {
         "id": 3628,
         "fiyat": "385000",
         "oda_salon_sayisi": 4,
         "net_m2": 120,
         "bina_yasi": 22,
         "isinma_tipi": "Kombi",
         "krediye_uygunluk": "Uygun",
         "bulundugu_kat": "2. Kat",
         "banyo_sayisi": 1,
         "ilce": "Keçiören",
         "nüfus": 938565,
         "eğitim": "Lise",
         "okuma_yazma_bilmeyen": "1,43",
         "_deepnote_index_column": 3
        },
        {
         "id": 3936,
         "fiyat": "700000",
         "oda_salon_sayisi": 5,
         "net_m2": 150,
         "bina_yasi": 0,
         "isinma_tipi": "Kombi",
         "krediye_uygunluk": "Uygun",
         "bulundugu_kat": "Ara Kat",
         "banyo_sayisi": 2,
         "ilce": "Çankaya",
         "nüfus": 925828,
         "eğitim": "Lisans",
         "okuma_yazma_bilmeyen": "0,7",
         "_deepnote_index_column": 4
        }
       ]
      },
      "text/plain": "     id   fiyat  oda_salon_sayisi  net_m2  bina_yasi        isinma_tipi  \\\n0  2612  275000               4.0   120.0       12.0              Kombi   \n1  4819  700000               3.0    88.0        0.0  Merkezi(PayÖlçer)   \n2   149  980000               5.0   230.0       30.0              Kombi   \n3  3628  385000               4.0   120.0       22.0              Kombi   \n4  3936  700000               5.0   150.0        0.0              Kombi   \n\n  krediye_uygunluk bulundugu_kat  banyo_sayisi      ilce     nüfus  eğitim  \\\n0            Uygun         Kot 1           1.0   Çankaya  925828.0  Lisans   \n1            Uygun        1. Kat           1.0   Çankaya  925828.0  Lisans   \n2            Uygun        3. Kat           2.0   Çankaya  925828.0  liSans   \n3            Uygun        2. Kat           1.0  Keçiören  938565.0    Lise   \n4            Uygun       Ara Kat           2.0   Çankaya  925828.0  Lisans   \n\n  okuma_yazma_bilmeyen  \n0                  0,7  \n1                  0,7  \n2                  0,7  \n3                 1,43  \n4                  0,7  ",
      "text/html": "<div>\n<style scoped>\n    .dataframe tbody tr th:only-of-type {\n        vertical-align: middle;\n    }\n\n    .dataframe tbody tr th {\n        vertical-align: top;\n    }\n\n    .dataframe thead th {\n        text-align: right;\n    }\n</style>\n<table border=\"1\" class=\"dataframe\">\n  <thead>\n    <tr style=\"text-align: right;\">\n      <th></th>\n      <th>id</th>\n      <th>fiyat</th>\n      <th>oda_salon_sayisi</th>\n      <th>net_m2</th>\n      <th>bina_yasi</th>\n      <th>isinma_tipi</th>\n      <th>krediye_uygunluk</th>\n      <th>bulundugu_kat</th>\n      <th>banyo_sayisi</th>\n      <th>ilce</th>\n      <th>nüfus</th>\n      <th>eğitim</th>\n      <th>okuma_yazma_bilmeyen</th>\n    </tr>\n  </thead>\n  <tbody>\n    <tr>\n      <th>0</th>\n      <td>2612</td>\n      <td>275000</td>\n      <td>4.0</td>\n      <td>120.0</td>\n      <td>12.0</td>\n      <td>Kombi</td>\n      <td>Uygun</td>\n      <td>Kot 1</td>\n      <td>1.0</td>\n      <td>Çankaya</td>\n      <td>925828.0</td>\n      <td>Lisans</td>\n      <td>0,7</td>\n    </tr>\n    <tr>\n      <th>1</th>\n      <td>4819</td>\n      <td>700000</td>\n      <td>3.0</td>\n      <td>88.0</td>\n      <td>0.0</td>\n      <td>Merkezi(PayÖlçer)</td>\n      <td>Uygun</td>\n      <td>1. Kat</td>\n      <td>1.0</td>\n      <td>Çankaya</td>\n      <td>925828.0</td>\n      <td>Lisans</td>\n      <td>0,7</td>\n    </tr>\n    <tr>\n      <th>2</th>\n      <td>149</td>\n      <td>980000</td>\n      <td>5.0</td>\n      <td>230.0</td>\n      <td>30.0</td>\n      <td>Kombi</td>\n      <td>Uygun</td>\n      <td>3. Kat</td>\n      <td>2.0</td>\n      <td>Çankaya</td>\n      <td>925828.0</td>\n      <td>liSans</td>\n      <td>0,7</td>\n    </tr>\n    <tr>\n      <th>3</th>\n      <td>3628</td>\n      <td>385000</td>\n      <td>4.0</td>\n      <td>120.0</td>\n      <td>22.0</td>\n      <td>Kombi</td>\n      <td>Uygun</td>\n      <td>2. Kat</td>\n      <td>1.0</td>\n      <td>Keçiören</td>\n      <td>938565.0</td>\n      <td>Lise</td>\n      <td>1,43</td>\n    </tr>\n    <tr>\n      <th>4</th>\n      <td>3936</td>\n      <td>700000</td>\n      <td>5.0</td>\n      <td>150.0</td>\n      <td>0.0</td>\n      <td>Kombi</td>\n      <td>Uygun</td>\n      <td>Ara Kat</td>\n      <td>2.0</td>\n      <td>Çankaya</td>\n      <td>925828.0</td>\n      <td>Lisans</td>\n      <td>0,7</td>\n    </tr>\n  </tbody>\n</table>\n</div>"
     },
     "metadata": {}
    }
   ],
   "execution_count": 12
  },
  {
   "cell_type": "markdown",
   "source": "### fiyat variable",
   "metadata": {
    "cell_id": "ac60912a-a50c-47be-ac3e-5f54939fd930",
    "tags": [],
    "is_collapsed": false,
    "deepnote_cell_type": "text-cell-h3",
    "deepnote_cell_height": 62
   }
  },
  {
   "cell_type": "markdown",
   "source": "With this code, we find the indexes of NA.",
   "metadata": {
    "cell_id": "37dfd102-6db7-461f-aaf7-af3c75d0cb4a",
    "tags": [],
    "deepnote_cell_type": "markdown",
    "deepnote_cell_height": 52.390625
   }
  },
  {
   "cell_type": "code",
   "source": "np.where(data['fiyat'].isnull())",
   "metadata": {
    "cell_id": "83e0b3a4-04ed-4ecd-9606-9003e5d32e68",
    "tags": [],
    "deepnote_to_be_reexecuted": false,
    "source_hash": "1d8bd301",
    "execution_start": 1647287779676,
    "execution_millis": 2,
    "deepnote_cell_type": "code",
    "deepnote_cell_height": 118.1875,
    "deepnote_output_heights": [
     21.1875
    ]
   },
   "outputs": [
    {
     "output_type": "execute_result",
     "execution_count": 13,
     "data": {
      "text/plain": "(array([ 638,  697,  880,  966, 2060, 2516, 2707, 4142, 4204, 4218]),)"
     },
     "metadata": {}
    }
   ],
   "execution_count": 13
  },
  {
   "cell_type": "code",
   "source": "fiyat = []\nfiyat_data = data.fiyat.copy()\nfiyat_data = fiyat_data.fillna('0')\nfor each in fiyat_data.values:\n    if((',' in each) & ('E' in each)):\n        temp = each\n        temp = temp.replace(',', '.')\n        temp = temp.replace('E', 'e')\n        fiyat.append(temp)\n    else:\n        fiyat.append(each)\n\nfiyat = pd.DataFrame(fiyat)\ndata.fiyat = fiyat.astype(float)\ndata['fiyat'] = data['fiyat'].replace(0, data.fiyat.mean())\n",
   "metadata": {
    "cell_id": "b3bfe1af-5e85-41d3-a76b-66360f4d1ad9",
    "tags": [],
    "deepnote_to_be_reexecuted": false,
    "source_hash": "a1ad72a8",
    "execution_start": 1647287779732,
    "execution_millis": 4,
    "deepnote_cell_type": "code",
    "deepnote_cell_height": 351
   },
   "outputs": [],
   "execution_count": 14
  },
  {
   "cell_type": "markdown",
   "source": "We give a value and constrain the data and we found the indexes of the selected outliers.We fill them with the median and do the type conversion as well.",
   "metadata": {
    "cell_id": "7d58fe65-5fcd-4d7d-89c2-738d3b587636",
    "tags": [],
    "deepnote_cell_type": "markdown",
    "deepnote_cell_height": 104
   },
   "outputs": [],
   "execution_count": null
  },
  {
   "cell_type": "code",
   "source": "data.fiyat.plot(kind='box')\nplt.show()",
   "metadata": {
    "cell_id": "a336f44b-3fb3-4873-94b7-f4c8d85e2dc5",
    "tags": [],
    "deepnote_to_be_reexecuted": false,
    "source_hash": "5f3a6097",
    "execution_start": 1647287779733,
    "execution_millis": 487,
    "deepnote_cell_type": "code",
    "deepnote_cell_height": 300.15625,
    "deepnote_output_heights": [
     185.15625
    ]
   },
   "outputs": [
    {
     "data": {
      "text/plain": "<Figure size 432x288 with 1 Axes>",
      "image/png": "[encoded data removed]"
     },
     "metadata": {
      "needs_background": "light",
      "image/png": {
       "width": 362,
       "height": 259
      }
     },
     "output_type": "display_data"
    }
   ],
   "execution_count": 15
  },
  {
   "cell_type": "code",
   "source": "data.fiyat = data.fiyat.interpolate(method = 'pad')",
   "metadata": {
    "cell_id": "81b8ea72-8f1d-4391-bf16-4ca53e740c08",
    "tags": [],
    "deepnote_to_be_reexecuted": false,
    "source_hash": "554d5528",
    "execution_start": 1647287780222,
    "execution_millis": 4,
    "deepnote_cell_type": "code",
    "deepnote_cell_height": 81
   },
   "outputs": [],
   "execution_count": 16
  },
  {
   "cell_type": "code",
   "source": "tenth_percentile = np.percentile(data['fiyat'], 10)\nninetieth_percentile = np.percentile(data['fiyat'], 90)\n# print(tenth_percentile, ninetieth_percentile)b = np.where(sample<tenth_percentile, tenth_percentile, sample)\ndata['fiyat']= np.where(data['fiyat']>ninetieth_percentile, ninetieth_percentile, data['fiyat'])\n# print(\"Sample:\", sample)\ndata.fiyat = data.loc[(data.fiyat>0.0) & (data.fiyat<=1e+06), 'fiyat']",
   "metadata": {
    "cell_id": "0bda6387-846a-45ca-b11b-b8236db0f061",
    "tags": [],
    "deepnote_to_be_reexecuted": false,
    "source_hash": "dfeddcb0",
    "execution_start": 1647287780230,
    "execution_millis": 10,
    "deepnote_cell_type": "code",
    "deepnote_cell_height": 171
   },
   "outputs": [],
   "execution_count": 17
  },
  {
   "cell_type": "markdown",
   "source": "### oda_salon_sayisi",
   "metadata": {
    "cell_id": "ead9142b-ade9-41e5-a9cf-2d83e1d78b82",
    "tags": [],
    "is_collapsed": false,
    "deepnote_cell_type": "text-cell-h3",
    "deepnote_cell_height": 62
   }
  },
  {
   "cell_type": "markdown",
   "source": "in oda_salon_sayisi feature, a very abnormal outlier is observed. This should be eliminated, as it could harm the later visualizations.",
   "metadata": {
    "cell_id": "d10e1e38-6338-4cd0-b53b-4c3bf2b08cf8",
    "tags": [],
    "deepnote_cell_type": "markdown",
    "deepnote_cell_height": 97.171875
   }
  },
  {
   "cell_type": "code",
   "source": "data.oda_salon_sayisi.plot(kind='box')\nplt.show()",
   "metadata": {
    "cell_id": "8d18d2fb-6379-47a4-b31d-4a5e7eb43acb",
    "tags": [],
    "deepnote_to_be_reexecuted": false,
    "source_hash": "e8c447b5",
    "execution_start": 1647287780247,
    "execution_millis": 219,
    "deepnote_cell_type": "code",
    "deepnote_cell_height": 280.28125,
    "deepnote_output_heights": [
     165.28125,
     254
    ]
   },
   "outputs": [
    {
     "data": {
      "text/plain": "<Figure size 432x288 with 1 Axes>",
      "image/png": "[encoded data removed]"
     },
     "metadata": {
      "needs_background": "light",
      "image/png": {
       "width": 375,
       "height": 252
      }
     },
     "output_type": "display_data"
    }
   ],
   "execution_count": 18
  },
  {
   "cell_type": "markdown",
   "source": "We observe the outlier from the graph belong to 'oda_salon_sayisi, we give a value and constrain the data and we found the indexes of the selected outliers.",
   "metadata": {
    "cell_id": "c7716953-a249-4dfc-b1ff-0f55649c24d8",
    "tags": [],
    "deepnote_cell_type": "markdown",
    "deepnote_cell_height": 97.171875
   }
  },
  {
   "cell_type": "code",
   "source": "c=(data['oda_salon_sayisi'] >= 140)\nprint(data[c])\n",
   "metadata": {
    "cell_id": "2bddcd03-e3c0-4980-b9ac-26ac7c9b78b2",
    "tags": [],
    "deepnote_to_be_reexecuted": false,
    "source_hash": "a921da21",
    "execution_start": 1647287780461,
    "execution_millis": 6,
    "deepnote_cell_type": "code",
    "deepnote_cell_height": 354.0625
   },
   "outputs": [
    {
     "name": "stdout",
     "text": "       id  fiyat  oda_salon_sayisi  net_m2  bina_yasi isinma_tipi  \\\n1751  143    NaN             153.0   110.0        0.0       Kombi   \n3579  712    NaN             153.0   110.0        0.0       Kombi   \n\n     krediye_uygunluk bulundugu_kat  banyo_sayisi      ilce     nüfus  eğitim  \\\n1751            Uygun        3. Kat           2.0   Çankaya  925828.0  Lisans   \n3579            Uygun        3. Kat           2.0  Keçiören  938565.0    Lise   \n\n     okuma_yazma_bilmeyen  \n1751                  0,7  \n3579                 1,43  \n",
     "output_type": "stream"
    }
   ],
   "execution_count": 19
  },
  {
   "cell_type": "code",
   "source": "data['oda_salon_sayisi'].isnull().value_counts()",
   "metadata": {
    "cell_id": "fc80e2ad-059b-4423-af6d-f525e846119d",
    "tags": [],
    "deepnote_to_be_reexecuted": false,
    "source_hash": "46b55e68",
    "execution_start": 1647287780462,
    "execution_millis": 5,
    "deepnote_cell_type": "code",
    "deepnote_cell_height": 156.5625,
    "deepnote_output_heights": [
     59.5625
    ]
   },
   "outputs": [
    {
     "output_type": "execute_result",
     "execution_count": 20,
     "data": {
      "text/plain": "False    4213\nTrue        9\nName: oda_salon_sayisi, dtype: int64"
     },
     "metadata": {}
    }
   ],
   "execution_count": 20
  },
  {
   "cell_type": "markdown",
   "source": "We fill these values ​​with mode.",
   "metadata": {
    "cell_id": "bed7d022-8df5-4fb1-9c71-a557b6e742f9",
    "tags": [],
    "deepnote_cell_type": "markdown",
    "deepnote_cell_height": 52.390625
   }
  },
  {
   "cell_type": "code",
   "source": "data['oda_salon_sayisi'].mode().values  \n#mode değeri 4\n",
   "metadata": {
    "cell_id": "cc3bb8ab-7725-4065-a442-a913e4642484",
    "tags": [],
    "deepnote_to_be_reexecuted": false,
    "source_hash": "61b2a2db",
    "execution_start": 1647287780468,
    "execution_millis": 3,
    "deepnote_cell_type": "code",
    "deepnote_cell_height": 154.1875,
    "deepnote_output_heights": [
     21.1875
    ]
   },
   "outputs": [
    {
     "output_type": "execute_result",
     "execution_count": 21,
     "data": {
      "text/plain": "array([4.])"
     },
     "metadata": {}
    }
   ],
   "execution_count": 21
  },
  {
   "cell_type": "code",
   "source": "data.oda_salon_sayisi[data.oda_salon_sayisi > 140] = np.nan\ndata['oda_salon_sayisi'] = data['oda_salon_sayisi'].fillna(data['oda_salon_sayisi'].mode()[0])\ndata['oda_salon_sayisi'] = data['oda_salon_sayisi'].astype(int)\n",
   "metadata": {
    "cell_id": "d3b02c18-4221-4943-b48f-53b25a738450",
    "tags": [],
    "deepnote_to_be_reexecuted": false,
    "source_hash": "87d7e432",
    "execution_start": 1647287780469,
    "execution_millis": 4,
    "deepnote_cell_type": "code",
    "deepnote_cell_height": 135
   },
   "outputs": [],
   "execution_count": 22
  },
  {
   "cell_type": "code",
   "source": "data['oda_salon_sayisi'].plot(kind='box')  #new graph\nplt.show()",
   "metadata": {
    "cell_id": "67fdd803-416d-4f00-be55-9791c2715b78",
    "tags": [],
    "deepnote_to_be_reexecuted": false,
    "source_hash": "7060bbde",
    "execution_start": 1647287780486,
    "execution_millis": 144,
    "deepnote_cell_type": "code",
    "deepnote_cell_height": 366,
    "deepnote_output_heights": [
     251,
     264
    ]
   },
   "outputs": [
    {
     "data": {
      "text/plain": "<Figure size 432x288 with 1 Axes>",
      "image/png": "[encoded data removed]"
     },
     "metadata": {
      "needs_background": "light",
      "image/png": {
       "width": 368,
       "height": 249
      }
     },
     "output_type": "display_data"
    }
   ],
   "execution_count": 23
  },
  {
   "cell_type": "markdown",
   "source": "### net_m2",
   "metadata": {
    "cell_id": "68e415df-fb42-418f-aea5-fa5d1c4b8d20",
    "tags": [],
    "is_collapsed": false,
    "deepnote_cell_type": "text-cell-h3",
    "deepnote_cell_height": 62
   }
  },
  {
   "cell_type": "code",
   "source": "data.net_m2.plot(kind = 'box')\nplt.show()",
   "metadata": {
    "cell_id": "e4d543ca-bb7c-4d50-9857-badc114b1d0c",
    "tags": [],
    "deepnote_to_be_reexecuted": false,
    "source_hash": "390337ac",
    "execution_start": 1647287780631,
    "execution_millis": 190,
    "deepnote_cell_type": "code",
    "deepnote_cell_height": 366,
    "deepnote_output_heights": [
     251,
     251
    ]
   },
   "outputs": [
    {
     "data": {
      "text/plain": "<Figure size 432x288 with 1 Axes>",
      "image/png": "[encoded data removed]"
     },
     "metadata": {
      "needs_background": "light",
      "image/png": {
       "width": 383,
       "height": 249
      }
     },
     "output_type": "display_data"
    }
   ],
   "execution_count": 24
  },
  {
   "cell_type": "code",
   "source": "# net_m2 outlier elimination and missing value imputation \n# negative values are being eliminated, and np.nan values are filled.\ndata['net_m2'] = data['net_m2'].abs()\n#data.net_m2[data.net_m2 > 180] = np.nan\ndata.net_m2 = data.net_m2.interpolate(method = 'pad', limit_direction ='forward')\ndata['net_m2'] = data['net_m2'].astype('int')",
   "metadata": {
    "cell_id": "6fd23f5f-e0e8-4263-b48c-b868f1dc0447",
    "tags": [],
    "deepnote_to_be_reexecuted": false,
    "source_hash": "da4c3627",
    "execution_start": 1647287780811,
    "execution_millis": 0,
    "deepnote_cell_type": "code",
    "deepnote_cell_height": 171
   },
   "outputs": [],
   "execution_count": 25
  },
  {
   "cell_type": "markdown",
   "source": "### bina_yasi",
   "metadata": {
    "cell_id": "331d4376-eeff-47ae-a3f1-555bfb9e6963",
    "tags": [],
    "is_collapsed": false,
    "deepnote_cell_type": "text-cell-h3",
    "deepnote_cell_height": 62
   }
  },
  {
   "cell_type": "code",
   "source": "data['bina_yasi'].plot(kind='box')\nplt.show()",
   "metadata": {
    "cell_id": "3fb3b9cf-0e31-480a-ba6e-64cfb35acbb3",
    "tags": [],
    "deepnote_to_be_reexecuted": false,
    "source_hash": "20fdf653",
    "execution_start": 1647287780827,
    "execution_millis": 153,
    "deepnote_cell_type": "code",
    "deepnote_cell_height": 366,
    "deepnote_output_heights": [
     251,
     251
    ]
   },
   "outputs": [
    {
     "data": {
      "text/plain": "<Figure size 432x288 with 1 Axes>",
      "image/png": "[encoded data removed]"
     },
     "metadata": {
      "needs_background": "light",
      "image/png": {
       "width": 368,
       "height": 249
      }
     },
     "output_type": "display_data"
    }
   ],
   "execution_count": 26
  },
  {
   "cell_type": "markdown",
   "source": "We filled 'bina_yasi' variable with mode and type conversion is done.",
   "metadata": {
    "cell_id": "f275b51d-4d24-45bf-9a85-e4f359f0ff8a",
    "tags": [],
    "deepnote_cell_type": "markdown",
    "deepnote_cell_height": 74.78125
   }
  },
  {
   "cell_type": "code",
   "source": "data['bina_yasi'] = data['bina_yasi'].fillna(data['bina_yasi'].mode()[0])\ndata['bina_yasi'] = data['bina_yasi'].astype(int)",
   "metadata": {
    "cell_id": "d9be61b4-8313-4f89-86cc-178f56e3db6b",
    "tags": [],
    "deepnote_to_be_reexecuted": false,
    "source_hash": "8c814654",
    "execution_start": 1647287781001,
    "execution_millis": 1,
    "deepnote_cell_type": "code",
    "deepnote_cell_height": 99
   },
   "outputs": [],
   "execution_count": 27
  },
  {
   "cell_type": "markdown",
   "source": "### isinma_tipi",
   "metadata": {
    "cell_id": "0e59b6d9-4147-4512-b85d-2cb2d28568e8",
    "tags": [],
    "is_collapsed": false,
    "deepnote_cell_type": "text-cell-h3",
    "deepnote_cell_height": 62
   }
  },
  {
   "cell_type": "code",
   "source": "data['isinma_tipi'].value_counts()",
   "metadata": {
    "cell_id": "66ac04d9-ae35-4f2a-bb3a-1ea1fec64f3e",
    "tags": [],
    "deepnote_to_be_reexecuted": false,
    "source_hash": "4c9f2260",
    "execution_start": 1647287781002,
    "execution_millis": 23,
    "deepnote_cell_type": "code",
    "deepnote_cell_height": 214.125,
    "deepnote_output_heights": [
     117.125
    ]
   },
   "outputs": [
    {
     "output_type": "execute_result",
     "execution_count": 28,
     "data": {
      "text/plain": "Kombi                3032\nMerkezi               743\nMerkezi(PayÖlçer)     434\nKatKaloriferi           5\nKlima                   4\nName: isinma_tipi, dtype: int64"
     },
     "metadata": {}
    }
   ],
   "execution_count": 28
  },
  {
   "cell_type": "code",
   "source": "data['isinma_tipi'].unique()",
   "metadata": {
    "cell_id": "83d5238f-8582-40c3-b6c7-ea11d3dd9778",
    "tags": [],
    "deepnote_to_be_reexecuted": false,
    "source_hash": "b5306b5e",
    "execution_start": 1647287781003,
    "execution_millis": 23,
    "deepnote_cell_type": "code",
    "deepnote_cell_height": 137.375,
    "deepnote_output_heights": [
     40.375
    ]
   },
   "outputs": [
    {
     "output_type": "execute_result",
     "execution_count": 29,
     "data": {
      "text/plain": "array(['Kombi', 'Merkezi(PayÖlçer)', 'Merkezi', 'KatKaloriferi', nan,\n       'Klima'], dtype=object)"
     },
     "metadata": {}
    }
   ],
   "execution_count": 29
  },
  {
   "cell_type": "markdown",
   "source": "We fill the 'isinma_tipi' NA with the most frequent strategy simple imputation and convert it to string.",
   "metadata": {
    "cell_id": "b9138f2b-4dae-416a-88f8-fe1d240a8758",
    "tags": [],
    "deepnote_cell_type": "markdown",
    "deepnote_cell_height": 74.78125
   }
  },
  {
   "cell_type": "code",
   "source": "median_isinma = data[\"isinma_tipi\"].value_counts().idxmax()\ndata[\"isinma_tipi\"] = data[\"isinma_tipi\"].fillna(median_isinma)",
   "metadata": {
    "cell_id": "25c18c44-8124-4897-9abe-4f193948e6e0",
    "tags": [],
    "deepnote_to_be_reexecuted": false,
    "source_hash": "24d83443",
    "execution_start": 1647287781011,
    "execution_millis": 0,
    "deepnote_cell_type": "code",
    "deepnote_cell_height": 99
   },
   "outputs": [],
   "execution_count": 30
  },
  {
   "cell_type": "markdown",
   "source": "### krediye_uygunluk",
   "metadata": {
    "cell_id": "f490e577-8cca-4641-9dbf-e656446411b4",
    "tags": [],
    "is_collapsed": false,
    "deepnote_cell_type": "text-cell-h3",
    "deepnote_cell_height": 62
   }
  },
  {
   "cell_type": "code",
   "source": "data['krediye_uygunluk'].unique()",
   "metadata": {
    "cell_id": "508cdcc1-b18f-44f2-9a25-7e29100cfa8b",
    "tags": [],
    "deepnote_to_be_reexecuted": false,
    "source_hash": "28062cc3",
    "execution_start": 1647287781015,
    "execution_millis": 38,
    "deepnote_cell_type": "code",
    "deepnote_cell_height": 118.1875,
    "deepnote_output_heights": [
     21.1875
    ]
   },
   "outputs": [
    {
     "output_type": "execute_result",
     "execution_count": 31,
     "data": {
      "text/plain": "array(['Uygun', 'Uygun değil', nan], dtype=object)"
     },
     "metadata": {}
    }
   ],
   "execution_count": 31
  },
  {
   "cell_type": "code",
   "source": "data['krediye_uygunluk'].value_counts()",
   "metadata": {
    "cell_id": "8f3aab10-ec3d-408e-90e2-955032d4f356",
    "tags": [],
    "deepnote_to_be_reexecuted": false,
    "source_hash": "90125fbe",
    "execution_start": 1647287781047,
    "execution_millis": 9,
    "deepnote_cell_type": "code",
    "deepnote_cell_height": 156.5625,
    "deepnote_output_heights": [
     59.5625
    ]
   },
   "outputs": [
    {
     "output_type": "execute_result",
     "execution_count": 32,
     "data": {
      "text/plain": "Uygun          4145\nUygun değil      73\nName: krediye_uygunluk, dtype: int64"
     },
     "metadata": {}
    }
   ],
   "execution_count": 32
  },
  {
   "cell_type": "markdown",
   "source": "With the label encoder, the category is predicted and the NA are filled in this way.",
   "metadata": {
    "cell_id": "2e7f27b4-2f25-4295-8264-362d2a2bd8f7",
    "tags": [],
    "deepnote_cell_type": "markdown",
    "deepnote_cell_height": 74.78125
   }
  },
  {
   "cell_type": "code",
   "source": "data['krediye_uygunluk'] = data['krediye_uygunluk'].fillna('Belirsiz').astype('str')\n\n# Applying binary encoding\nle = sklearn.preprocessing.LabelEncoder()\ndata['krediye_uygunluk'] = le.fit_transform(data['krediye_uygunluk'])",
   "metadata": {
    "cell_id": "76c79365-705a-4722-9ffa-e3c79e82ab8c",
    "tags": [],
    "deepnote_to_be_reexecuted": false,
    "source_hash": "250c961a",
    "execution_start": 1647287781047,
    "execution_millis": 0,
    "deepnote_cell_type": "code",
    "deepnote_cell_height": 153
   },
   "outputs": [],
   "execution_count": 33
  },
  {
   "cell_type": "markdown",
   "source": "### bulunduğu_kat",
   "metadata": {
    "cell_id": "14f50c06-9045-4d8c-8f56-a885763627f3",
    "tags": [],
    "is_collapsed": false,
    "deepnote_cell_type": "text-cell-h3",
    "deepnote_cell_height": 62
   }
  },
  {
   "cell_type": "code",
   "source": "data['bulundugu_kat'].unique() ",
   "metadata": {
    "cell_id": "5f8e75e2-5c61-479b-9ba7-1a4939e95af6",
    "tags": [],
    "deepnote_to_be_reexecuted": false,
    "source_hash": "fe1874bb",
    "execution_start": 1647287781048,
    "execution_millis": 0,
    "deepnote_cell_type": "code",
    "deepnote_cell_height": 233.3125,
    "deepnote_output_heights": [
     136.3125
    ]
   },
   "outputs": [
    {
     "output_type": "execute_result",
     "execution_count": 34,
     "data": {
      "text/plain": "array(['Kot 1', '1. Kat', '3. Kat', '2. Kat', 'Ara Kat', 'Bahçe Katı',\n       'Teras Katı', 'Yüksek Giriş', '4. Kat', 'En Üst Kat', '9. Kat',\n       'Kot 2', '5. Kat', '6. Kat', '7. Kat', '21 ve üzeri', 'Giriş Katı',\n       '13. Kat', 'Zemin', '12. Kat', '14. Kat', '11. Kat', '15. Kat',\n       '20. Kat', 'Kot 3', '8. Kat', '17. Kat', 'Çatı Katı', nan,\n       '16. Kat', '10. Kat', '19. Kat', 'Bodrum', 'Villa Katı'],\n      dtype=object)"
     },
     "metadata": {}
    }
   ],
   "execution_count": 34
  },
  {
   "cell_type": "markdown",
   "source": "Initially, features starting with 'kot' thought as a typo. Although later research has showed that kot is a term used for floors under the entrance floor.",
   "metadata": {
    "cell_id": "65f6c967-5ebe-483f-aeeb-92dd41cdb1a0",
    "tags": [],
    "deepnote_cell_type": "markdown",
    "deepnote_cell_height": 97.171875
   }
  },
  {
   "cell_type": "code",
   "source": "data['bulundugu_kat'].value_counts()",
   "metadata": {
    "cell_id": "9a0097fb-1c09-4195-b408-679327c3d8d0",
    "tags": [],
    "deepnote_to_be_reexecuted": false,
    "source_hash": "ac1971ae",
    "execution_start": 1647287781097,
    "execution_millis": 4,
    "deepnote_cell_type": "code",
    "deepnote_cell_height": 708,
    "deepnote_output_heights": [
     611
    ]
   },
   "outputs": [
    {
     "output_type": "execute_result",
     "execution_count": 35,
     "data": {
      "text/plain": "3. Kat          708\n2. Kat          704\n1. Kat          682\n4. Kat          372\nYüksek Giriş    354\nKot 1           277\nGiriş Katı      189\nBahçe Katı      129\n5. Kat          125\nKot 2           121\n6. Kat           70\nEn Üst Kat       54\nTeras Katı       53\n7. Kat           52\n21 ve üzeri      43\n8. Kat           40\nAra Kat          39\n9. Kat           30\nZemin            28\n10. Kat          26\n12. Kat          25\n11. Kat          19\n15. Kat          17\n14. Kat          16\n13. Kat          12\nKot 3             9\n17. Kat           6\nÇatı Katı         5\n19. Kat           5\nVilla Katı        3\n20. Kat           2\nBodrum            2\n16. Kat           1\nName: bulundugu_kat, dtype: int64"
     },
     "metadata": {}
    }
   ],
   "execution_count": 35
  },
  {
   "cell_type": "markdown",
   "source": "The most frequent value among the different classes of bulundugu_kat feature is taken and this value is filled with the median and the string is made as it should be.",
   "metadata": {
    "cell_id": "eb6eaad2-046a-499d-92f1-32d75aa6ee1a",
    "tags": [],
    "deepnote_cell_type": "markdown",
    "deepnote_cell_height": 97.171875
   }
  },
  {
   "cell_type": "code",
   "source": "data['bulundugu_kat'] = data['bulundugu_kat'].str.replace('Kot 1','-1. Kat')\ndata['bulundugu_kat'] = data['bulundugu_kat'].str.replace('Kot 2','-2. Kat')\ndata['bulundugu_kat'] = data['bulundugu_kat'].str.replace('Kot 3','-3. Kat')\nmedian_kat = data[\"bulundugu_kat\"].value_counts().idxmax()\ndata['bulundugu_kat'] = data['bulundugu_kat'].fillna(median_kat)\ndata['bulundugu_kat'] = data['bulundugu_kat'].astype(str)\n",
   "metadata": {
    "cell_id": "573bf89c-5633-416e-8a55-9f66b40b5d03",
    "tags": [],
    "deepnote_to_be_reexecuted": false,
    "source_hash": "920ea0fc",
    "execution_start": 1647287781098,
    "execution_millis": 1,
    "deepnote_cell_type": "code",
    "deepnote_cell_height": 189
   },
   "outputs": [],
   "execution_count": 36
  },
  {
   "cell_type": "markdown",
   "source": "### banyo_sayisi",
   "metadata": {
    "cell_id": "0967fb4b-b2a9-4b3a-b861-0b93a761a355",
    "tags": [],
    "is_collapsed": false,
    "deepnote_cell_type": "text-cell-h3",
    "deepnote_cell_height": 62
   }
  },
  {
   "cell_type": "code",
   "source": "data['banyo_sayisi'].plot(kind='box')\nplt.show()",
   "metadata": {
    "cell_id": "643a18d4-fca3-4b34-ad70-af0910041d09",
    "tags": [],
    "deepnote_to_be_reexecuted": false,
    "source_hash": "611b057e",
    "execution_start": 1647287781099,
    "execution_millis": 178,
    "deepnote_cell_type": "code",
    "deepnote_cell_height": 366,
    "deepnote_output_heights": [
     251,
     251
    ]
   },
   "outputs": [
    {
     "data": {
      "text/plain": "<Figure size 432x288 with 1 Axes>",
      "image/png": "[encoded data removed]"
     },
     "metadata": {
      "needs_background": "light",
      "image/png": {
       "width": 378,
       "height": 249
      }
     },
     "output_type": "display_data"
    }
   ],
   "execution_count": 37
  },
  {
   "cell_type": "markdown",
   "source": "The value is selected according to the median, NA is filled and type conversion is done.",
   "metadata": {
    "cell_id": "39fe50ea-b48b-41b6-9dc5-74c81228e719",
    "tags": [],
    "deepnote_cell_type": "markdown",
    "deepnote_cell_height": 74.78125
   }
  },
  {
   "cell_type": "code",
   "source": "median = data.loc[data['banyo_sayisi']<=3, 'banyo_sayisi'].median()\ndata.loc[data['banyo_sayisi']>3, 'banyo_sayisi'] = np.nan\ndata['banyo_sayisi'] = data['banyo_sayisi'].fillna(median)\ndata['banyo_sayisi']=data['banyo_sayisi'].astype('int')",
   "metadata": {
    "cell_id": "9b8e57c3-9908-4ce1-8c4d-fcdb29217003",
    "tags": [],
    "deepnote_to_be_reexecuted": false,
    "source_hash": "41f4ae44",
    "execution_start": 1647287781275,
    "execution_millis": 1,
    "deepnote_cell_type": "code",
    "deepnote_cell_height": 135
   },
   "outputs": [],
   "execution_count": 38
  },
  {
   "cell_type": "markdown",
   "source": "### ilce",
   "metadata": {
    "cell_id": "226679b8-8cb3-43ed-a43f-0e912b81438d",
    "tags": [],
    "is_collapsed": false,
    "deepnote_cell_type": "text-cell-h3",
    "deepnote_cell_height": 62
   }
  },
  {
   "cell_type": "code",
   "source": "data['ilce'].unique() ",
   "metadata": {
    "cell_id": "52808890-f862-4008-911a-3a8b1888de85",
    "tags": [],
    "deepnote_to_be_reexecuted": false,
    "source_hash": "f34e6139",
    "execution_start": 1647287781276,
    "execution_millis": 2,
    "deepnote_cell_type": "code",
    "deepnote_cell_height": 137.375,
    "deepnote_output_heights": [
     40.375
    ]
   },
   "outputs": [
    {
     "output_type": "execute_result",
     "execution_count": 39,
     "data": {
      "text/plain": "array(['Çankaya', 'Keçiören', 'Sincan', 'Mamak', 'cankaya', nan],\n      dtype=object)"
     },
     "metadata": {}
    }
   ],
   "execution_count": 39
  },
  {
   "cell_type": "markdown",
   "source": "ilce and eğitim categories have typos to be rewritten.",
   "metadata": {
    "cell_id": "c8dce3f2-2cdf-4305-8fe9-d3b520af0aaf",
    "tags": [],
    "deepnote_cell_type": "markdown",
    "deepnote_cell_height": 52.390625
   }
  },
  {
   "cell_type": "code",
   "source": "data['ilce']=data['ilce'].str.replace('cankaya','Çankaya')",
   "metadata": {
    "cell_id": "0ea77dfe-0f44-49d9-957a-60a872f4d36e",
    "tags": [],
    "deepnote_to_be_reexecuted": false,
    "source_hash": "c10a2b08",
    "execution_start": 1647287781303,
    "execution_millis": 0,
    "deepnote_cell_type": "code",
    "deepnote_cell_height": 81
   },
   "outputs": [],
   "execution_count": 40
  },
  {
   "cell_type": "code",
   "source": "data.ilce.value_counts()",
   "metadata": {
    "cell_id": "56b37a96-6e77-4ab5-b82b-544214c64d13",
    "tags": [],
    "deepnote_to_be_reexecuted": false,
    "source_hash": "e39913bf",
    "execution_start": 1647287781303,
    "execution_millis": 4,
    "deepnote_cell_type": "code",
    "deepnote_cell_height": 194.9375,
    "deepnote_output_heights": [
     97.9375
    ]
   },
   "outputs": [
    {
     "output_type": "execute_result",
     "execution_count": 41,
     "data": {
      "text/plain": "Keçiören    1778\nÇankaya     1776\nSincan       615\nMamak         46\nName: ilce, dtype: int64"
     },
     "metadata": {}
    }
   ],
   "execution_count": 41
  },
  {
   "cell_type": "markdown",
   "source": "We impute ilce with the strategy of most frequent.",
   "metadata": {
    "cell_id": "b3e872e4-6ecd-4b1c-b1f8-101e6bd86059",
    "tags": [],
    "deepnote_cell_type": "markdown",
    "deepnote_cell_height": 52.390625
   }
  },
  {
   "cell_type": "code",
   "source": "median_ilce = data[\"ilce\"].value_counts().idxmax()\ndata[\"ilce\"] = data[\"ilce\"].fillna(median_ilce)",
   "metadata": {
    "cell_id": "8dd7be67-7974-4a0f-aab9-82cf2d7c2885",
    "tags": [],
    "deepnote_to_be_reexecuted": false,
    "source_hash": "bf02d615",
    "execution_start": 1647287781304,
    "execution_millis": 0,
    "deepnote_cell_type": "code",
    "deepnote_cell_height": 99
   },
   "outputs": [],
   "execution_count": 42
  },
  {
   "cell_type": "markdown",
   "source": "### nüfus",
   "metadata": {
    "cell_id": "e7049d1a-7338-423c-9ffb-32c072bebaf4",
    "tags": [],
    "is_collapsed": false,
    "deepnote_cell_type": "text-cell-h3",
    "deepnote_cell_height": 62
   }
  },
  {
   "cell_type": "code",
   "source": "data['nüfus'].plot(kind='box')\nplt.show()",
   "metadata": {
    "cell_id": "c86fe787-2a18-42d4-bd0b-42de97b9f05f",
    "tags": [],
    "deepnote_to_be_reexecuted": false,
    "source_hash": "4cce9be4",
    "execution_start": 1647287781305,
    "execution_millis": 272,
    "deepnote_cell_type": "code",
    "deepnote_cell_height": 365,
    "deepnote_output_heights": [
     250,
     250
    ]
   },
   "outputs": [
    {
     "data": {
      "text/plain": "<Figure size 432x288 with 1 Axes>",
      "image/png": "[encoded data removed]"
     },
     "metadata": {
      "needs_background": "light",
      "image/png": {
       "width": 393,
       "height": 248
      }
     },
     "output_type": "display_data"
    }
   ],
   "execution_count": 43
  },
  {
   "cell_type": "markdown",
   "source": "We observe the outlier from the graph belong to 'nüfus', we give a value and constrain the data and we found the indexes of the selected outliers.We fill them with the median and do the type conversion as well.",
   "metadata": {
    "cell_id": "862e19c8-06b7-490e-b0e9-df57d5e1b3a1",
    "tags": [],
    "deepnote_cell_type": "markdown",
    "deepnote_cell_height": 119.5625
   }
  },
  {
   "cell_type": "code",
   "source": "median = data.loc[data['nüfus']>750000, 'nüfus'].median()\ndata.loc[data['nüfus']<750000, 'nüfus'] = np.nan\ndata['nüfus'] = data['nüfus'].fillna(median)\ndata['nüfus'] = data['nüfus'].astype('int')",
   "metadata": {
    "cell_id": "f1289ac7-5b8b-468f-9700-6d8254036702",
    "tags": [],
    "deepnote_to_be_reexecuted": false,
    "source_hash": "c7f8cefe",
    "execution_start": 1647287781580,
    "execution_millis": 5,
    "deepnote_cell_type": "code",
    "deepnote_cell_height": 135
   },
   "outputs": [],
   "execution_count": 44
  },
  {
   "cell_type": "markdown",
   "source": "### eğitim",
   "metadata": {
    "cell_id": "b7bab9a0-39b0-4ae8-b236-bd9d46d55290",
    "tags": [],
    "is_collapsed": false,
    "deepnote_cell_type": "text-cell-h3",
    "deepnote_cell_height": 62
   }
  },
  {
   "cell_type": "code",
   "source": "data['eğitim'].unique() ",
   "metadata": {
    "cell_id": "f8e6dfe7-ec7f-4349-8ea1-c1c4f4108132",
    "tags": [],
    "deepnote_to_be_reexecuted": false,
    "source_hash": "478bdc98",
    "execution_start": 1647287781591,
    "execution_millis": 4,
    "deepnote_cell_type": "code",
    "deepnote_cell_height": 118.1875,
    "deepnote_output_heights": [
     21.1875
    ]
   },
   "outputs": [
    {
     "output_type": "execute_result",
     "execution_count": 45,
     "data": {
      "text/plain": "array(['Lisans', 'liSans', 'Lise', 'liS3', nan], dtype=object)"
     },
     "metadata": {}
    }
   ],
   "execution_count": 45
  },
  {
   "cell_type": "markdown",
   "source": "Rewriting ilce and eğitim typos.",
   "metadata": {
    "cell_id": "7e756028-212a-4ff8-bf75-ebe44c3d13b6",
    "tags": [],
    "deepnote_cell_type": "markdown",
    "deepnote_cell_height": 52.390625
   }
  },
  {
   "cell_type": "code",
   "source": "data['eğitim']=data['eğitim'].str.replace('liSans','Lisans')\ndata['eğitim']=data['eğitim'].str.replace('liS3','Lise')\ndata['eğitim'].unique()",
   "metadata": {
    "cell_id": "0c77397e-7a22-4c11-8266-24e151ed2eca",
    "tags": [],
    "deepnote_to_be_reexecuted": false,
    "source_hash": "31960483",
    "execution_start": 1647287781608,
    "execution_millis": 5,
    "deepnote_cell_type": "code",
    "deepnote_cell_height": 154.1875,
    "deepnote_output_heights": [
     21.1875
    ]
   },
   "outputs": [
    {
     "output_type": "execute_result",
     "execution_count": 46,
     "data": {
      "text/plain": "array(['Lisans', 'Lise', nan], dtype=object)"
     },
     "metadata": {}
    }
   ],
   "execution_count": 46
  },
  {
   "cell_type": "code",
   "source": "data['eğitim'].value_counts()",
   "metadata": {
    "cell_id": "80791f69-451d-48da-bd81-5e2da01117c8",
    "tags": [],
    "deepnote_to_be_reexecuted": false,
    "source_hash": "47f4b856",
    "execution_start": 1647287781637,
    "execution_millis": 5,
    "deepnote_cell_type": "code",
    "deepnote_cell_height": 156.5625,
    "deepnote_output_heights": [
     59.5625
    ]
   },
   "outputs": [
    {
     "output_type": "execute_result",
     "execution_count": 47,
     "data": {
      "text/plain": "Lise      2441\nLisans    1776\nName: eğitim, dtype: int64"
     },
     "metadata": {}
    }
   ],
   "execution_count": 47
  },
  {
   "cell_type": "code",
   "source": "data['eğitim'] = data['eğitim'].fillna('Lisans').astype('str')",
   "metadata": {
    "cell_id": "59ebfdb8-1414-4335-b230-7b489dc8970f",
    "tags": [],
    "deepnote_to_be_reexecuted": false,
    "source_hash": "2aad85b2",
    "execution_start": 1647287781638,
    "execution_millis": 1,
    "deepnote_cell_type": "code",
    "deepnote_cell_height": 81
   },
   "outputs": [],
   "execution_count": 48
  },
  {
   "cell_type": "markdown",
   "source": "### okuma_yazma_bilmeyen",
   "metadata": {
    "cell_id": "b71289f5-3ca4-4fde-bca2-2d0dc7aa516c",
    "tags": [],
    "is_collapsed": false,
    "deepnote_cell_type": "text-cell-h3",
    "deepnote_cell_height": 62
   }
  },
  {
   "cell_type": "code",
   "source": "data['okuma_yazma_bilmeyen'].value_counts()",
   "metadata": {
    "cell_id": "48281ca3-daec-4c46-951e-bfaac07c1cf9",
    "tags": [],
    "deepnote_to_be_reexecuted": false,
    "source_hash": "61e691",
    "execution_start": 1647287781639,
    "execution_millis": 1,
    "deepnote_cell_type": "code",
    "deepnote_cell_height": 214.125,
    "deepnote_output_heights": [
     117.125
    ]
   },
   "outputs": [
    {
     "output_type": "execute_result",
     "execution_count": 49,
     "data": {
      "text/plain": "1,43    1770\n0,7     1766\n1,44     612\n1,9       45\n0         24\nName: okuma_yazma_bilmeyen, dtype: int64"
     },
     "metadata": {}
    }
   ],
   "execution_count": 49
  },
  {
   "cell_type": "markdown",
   "source": "Error occurs in variable conversion because of period and comma.Then type conversion is done.",
   "metadata": {
    "cell_id": "828cecfd-7c80-4fc2-8a04-8260ab5baf1f",
    "tags": [],
    "deepnote_cell_type": "markdown",
    "deepnote_cell_height": 74.78125
   }
  },
  {
   "cell_type": "code",
   "source": "okuma = []\nbilmeyen = data['okuma_yazma_bilmeyen'].copy()\nbilmeyen = bilmeyen.fillna('2')\nfor each in bilmeyen.values:\n    if(',' in each):\n        temp = each\n        temp = temp.replace(',', '.')\n        okuma.append(temp)\n    else:\n        okuma.append(each)\n",
   "metadata": {
    "cell_id": "96cfd021-f722-4ce2-9a32-4fa7ae89c991",
    "tags": [],
    "deepnote_to_be_reexecuted": false,
    "source_hash": "56a30e5d",
    "execution_start": 1647287781644,
    "execution_millis": 3,
    "deepnote_cell_type": "code",
    "deepnote_cell_height": 261
   },
   "outputs": [],
   "execution_count": 50
  },
  {
   "cell_type": "code",
   "source": "data['okuma_yazma_bilmeyen'] = okuma\ndata['okuma_yazma_bilmeyen'] = data['okuma_yazma_bilmeyen'].astype(float)\nprint(data['okuma_yazma_bilmeyen'])",
   "metadata": {
    "cell_id": "249c29ee-b924-425d-a0c4-63337dffb53c",
    "tags": [],
    "deepnote_to_be_reexecuted": false,
    "source_hash": "5df033df",
    "execution_start": 1647287781653,
    "execution_millis": 6,
    "deepnote_cell_type": "code",
    "deepnote_cell_height": 370.25
   },
   "outputs": [
    {
     "name": "stdout",
     "text": "0       0.70\n1       0.70\n2       0.70\n3       1.43\n4       0.70\n        ... \n4217    0.70\n4218    1.43\n4219    1.43\n4220    1.43\n4221    1.43\nName: okuma_yazma_bilmeyen, Length: 4222, dtype: float64\n",
     "output_type": "stream"
    }
   ],
   "execution_count": 51
  },
  {
   "cell_type": "code",
   "source": "data['okuma_yazma_bilmeyen'].value_counts()",
   "metadata": {
    "cell_id": "327ed387-451f-41aa-af75-1f38b5721173",
    "tags": [],
    "deepnote_to_be_reexecuted": false,
    "source_hash": "61e691",
    "execution_start": 1647287781700,
    "execution_millis": 3,
    "deepnote_cell_type": "code",
    "deepnote_cell_height": 233.3125,
    "deepnote_output_heights": [
     136.3125
    ]
   },
   "outputs": [
    {
     "output_type": "execute_result",
     "execution_count": 52,
     "data": {
      "text/plain": "1.43    1770\n0.70    1766\n1.44     612\n1.90      45\n0.00      24\n2.00       5\nName: okuma_yazma_bilmeyen, dtype: int64"
     },
     "metadata": {}
    }
   ],
   "execution_count": 52
  },
  {
   "cell_type": "code",
   "source": "mode = data.loc[data['okuma_yazma_bilmeyen']< 1.90, 'okuma_yazma_bilmeyen'].mode()\nmode[0]",
   "metadata": {
    "cell_id": "815b1bae-41a5-4a90-b2f1-a3fe5f312e5e",
    "tags": [],
    "deepnote_to_be_reexecuted": false,
    "source_hash": "8f46fea7",
    "execution_start": 1647287781701,
    "execution_millis": 3,
    "deepnote_cell_type": "code",
    "deepnote_cell_height": 136.1875,
    "deepnote_output_heights": [
     21.1875
    ]
   },
   "outputs": [
    {
     "output_type": "execute_result",
     "execution_count": 53,
     "data": {
      "text/plain": "1.43"
     },
     "metadata": {}
    }
   ],
   "execution_count": 53
  },
  {
   "cell_type": "markdown",
   "source": "We learned mode with code and then put back with loc.Then fill NA with this.",
   "metadata": {
    "cell_id": "08b8e24c-e7cb-4e51-8b21-6776c2d54acd",
    "tags": [],
    "deepnote_cell_type": "markdown",
    "deepnote_cell_height": 74.78125
   }
  },
  {
   "cell_type": "code",
   "source": "mode = data.loc[data['okuma_yazma_bilmeyen']!=2.00, 'okuma_yazma_bilmeyen'].mode()[0]\n\ndata.loc[data['okuma_yazma_bilmeyen']==2.00, 'okuma_yazma_bilmeyen'] = np.nan\n\ndata['okuma_yazma_bilmeyen'].fillna(mode,inplace=True)\n",
   "metadata": {
    "cell_id": "cd1448fc-2d3c-4b99-8ed8-d3285ec5ac73",
    "tags": [],
    "deepnote_to_be_reexecuted": false,
    "source_hash": "7cb7a216",
    "execution_start": 1647287781702,
    "execution_millis": 0,
    "deepnote_cell_type": "code",
    "deepnote_cell_height": 171
   },
   "outputs": [],
   "execution_count": 54
  },
  {
   "cell_type": "code",
   "source": "data['okuma_yazma_bilmeyen'].value_counts()",
   "metadata": {
    "cell_id": "cdfc680f-f9bc-4523-8b6c-a772df46af5c",
    "tags": [],
    "deepnote_to_be_reexecuted": false,
    "source_hash": "61e691",
    "execution_start": 1647287781707,
    "execution_millis": 8,
    "deepnote_cell_type": "code",
    "deepnote_cell_height": 214.125,
    "deepnote_output_heights": [
     117.125
    ]
   },
   "outputs": [
    {
     "output_type": "execute_result",
     "execution_count": 55,
     "data": {
      "text/plain": "1.43    1775\n0.70    1766\n1.44     612\n1.90      45\n0.00      24\nName: okuma_yazma_bilmeyen, dtype: int64"
     },
     "metadata": {}
    }
   ],
   "execution_count": 55
  },
  {
   "cell_type": "code",
   "source": "data.info()   #variable type control",
   "metadata": {
    "cell_id": "f7a99292-c34b-47c9-8262-92b0cfb600be",
    "tags": [],
    "deepnote_to_be_reexecuted": false,
    "source_hash": "ea9a3eb0",
    "execution_start": 1647287781720,
    "execution_millis": 9,
    "deepnote_cell_type": "code",
    "deepnote_cell_height": 495.75
   },
   "outputs": [
    {
     "name": "stdout",
     "text": "<class 'pandas.core.frame.DataFrame'>\nRangeIndex: 4222 entries, 0 to 4221\nData columns (total 13 columns):\n #   Column                Non-Null Count  Dtype  \n---  ------                --------------  -----  \n 0   id                    4222 non-null   int64  \n 1   fiyat                 3743 non-null   float64\n 2   oda_salon_sayisi      4222 non-null   int64  \n 3   net_m2                4222 non-null   int64  \n 4   bina_yasi             4222 non-null   int64  \n 5   isinma_tipi           4222 non-null   object \n 6   krediye_uygunluk      4222 non-null   int64  \n 7   bulundugu_kat         4222 non-null   object \n 8   banyo_sayisi          4222 non-null   int64  \n 9   ilce                  4222 non-null   object \n 10  nüfus                 4222 non-null   int64  \n 11  eğitim                4222 non-null   object \n 12  okuma_yazma_bilmeyen  4222 non-null   float64\ndtypes: float64(2), int64(7), object(4)\nmemory usage: 428.9+ KB\n",
     "output_type": "stream"
    }
   ],
   "execution_count": 56
  },
  {
   "cell_type": "markdown",
   "source": "Final outlier result is as follows:",
   "metadata": {
    "cell_id": "ef64eb24-3dc0-4023-a49e-6c43068ba259",
    "tags": [],
    "deepnote_cell_type": "markdown",
    "deepnote_cell_height": 52.390625
   }
  },
  {
   "cell_type": "code",
   "source": "data.plot(kind='box')\nplt.xticks(rotation = 90)\nplt.show()",
   "metadata": {
    "cell_id": "645d3480-6ea5-499d-8d7c-8f620d17015b",
    "tags": [],
    "deepnote_to_be_reexecuted": false,
    "source_hash": "70d97bf7",
    "execution_start": 1647287781733,
    "execution_millis": 367,
    "deepnote_cell_type": "code",
    "deepnote_cell_height": 507,
    "deepnote_output_heights": [
     374
    ]
   },
   "outputs": [
    {
     "data": {
      "text/plain": "<Figure size 432x288 with 1 Axes>",
      "image/png": "[encoded data removed]"
     },
     "metadata": {
      "needs_background": "light",
      "image/png": {
       "width": 372,
       "height": 372
      }
     },
     "output_type": "display_data"
    }
   ],
   "execution_count": 57
  },
  {
   "cell_type": "markdown",
   "source": "Only fiyat has certain outliers, but it isthought that traditional outlier handling methods could harm data sentimentality by a great data loss with this much of outlier data",
   "metadata": {
    "cell_id": "02940e2b-e3f1-4586-a7cd-0178cc332f2f",
    "tags": [],
    "deepnote_cell_type": "markdown",
    "deepnote_cell_height": 97.171875
   }
  },
  {
   "cell_type": "markdown",
   "source": "### Mission 1 is complete!",
   "metadata": {
    "cell_id": "e3c58197-b836-4615-bd12-bb714b342161",
    "tags": [],
    "is_collapsed": false,
    "deepnote_cell_type": "text-cell-h3",
    "deepnote_cell_height": 62
   }
  },
  {
   "cell_type": "markdown",
   "source": "### 2.",
   "metadata": {
    "cell_id": "fdb4155f-bf0f-4087-bffc-e9a97a78df4a",
    "tags": [],
    "is_collapsed": false,
    "deepnote_cell_type": "text-cell-h3",
    "deepnote_cell_height": 62
   }
  },
  {
   "cell_type": "code",
   "source": "rng = np.random.RandomState(0)\n\ncolors = rng.rand(4222)\n\n\nplt.scatter(data['fiyat'], data['net_m2'], c=colors, alpha=0.3,\n            cmap='viridis')\nplt.colorbar(); \nplt.title('Görev 2\\nnet_m2 ve Fiyat Değişkenlerinin İlişkisi\\n')\nplt.show()",
   "metadata": {
    "cell_id": "a95a06e6-98aa-4a04-b3d1-d24f322ada24",
    "tags": [],
    "deepnote_to_be_reexecuted": false,
    "source_hash": "9b12a78",
    "execution_start": 1647288948365,
    "execution_millis": 644,
    "deepnote_cell_type": "code",
    "deepnote_cell_height": 665.1875,
    "deepnote_output_heights": [
     21.1875,
     354
    ]
   },
   "outputs": [
    {
     "data": {
      "text/plain": "<Figure size 432x288 with 2 Axes>",
      "image/png": "[encoded data removed]"
     },
     "metadata": {
      "image/png": {
       "width": 408,
       "height": 352
      }
     },
     "output_type": "display_data"
    }
   ],
   "execution_count": 74
  },
  {
   "cell_type": "markdown",
   "source": "'net_m2' has a linear, maybe slightly quadratic, relationship with fiyat. Even though there are some outliers, the data has enough characteristic samples for concluding a relationship between the 2 features. There are some samples which are very close to zero that are shown as zero in this graphic, there are difference in their scales, so it is not healthy to conclude from data close to zero.",
   "metadata": {
    "cell_id": "504b78f1-46f6-4873-8f01-6dcf899d2a15",
    "tags": [],
    "deepnote_cell_type": "markdown",
    "deepnote_cell_height": 164.34375
   }
  },
  {
   "cell_type": "markdown",
   "source": "### 3.",
   "metadata": {
    "cell_id": "4d261df1-0fc5-41e2-97a4-a56225b18c46",
    "tags": [],
    "is_collapsed": false,
    "deepnote_cell_type": "text-cell-h3",
    "deepnote_cell_height": 62
   }
  },
  {
   "cell_type": "markdown",
   "source": "'bulundugu_kat' variable defined at 'seviye' variable as an object.Then 'katlar' added to dataframe for easy visualization.There was a blank space in the data, we deleted it from it.\n",
   "metadata": {
    "cell_id": "bd72a43c-a30e-4ab6-b60b-f5e995387f0c",
    "tags": [],
    "deepnote_cell_type": "markdown",
    "deepnote_cell_height": 119.5625
   }
  },
  {
   "cell_type": "code",
   "source": "seviye={'Bodrum':-4,'-3. Kat':-3,'Kot 3':-3,'Kot 2':-2,'-2. Kat':-2,\n'-1. Kat':-1,'Kot 1':-1,'Zemin':0,'1. Kat':2,\n'2. Kat':2,'3. Kat':3,'Ara Kat':0,'Bahçe Katı':0,\n'4. Kat':4,'5. Kat':5,'Giriş Katı':0,\n'6. Kat':6,'7. Kat':7,'8. Kat':8,'9. Kat':9,'10. Kat':10,'11. Kat':11,'12. Kat':12,\n'13. Kat':13,'14. Kat':14,'15. Kat':15,'16. Kat':16,'17. Kat':17,'18. Kat':18,\n'19. Kat':19,'20. Kat':20,'21 ve üzeri':21,'18. Kat':18,'Teras Katı':0,\n'Yüksek Giriş':0,'En Üst Kat':22,'Çatı Katı':22,\n'Villa Katı':0}\ndata['katlar']=data['bulundugu_kat'].replace(seviye)\ndata.drop(data.index[data['katlar'] == ''], inplace = True)",
   "metadata": {
    "cell_id": "e501f7a0-6c4e-45e8-8505-b0b04001a96d",
    "tags": [],
    "deepnote_to_be_reexecuted": false,
    "source_hash": "953e5ba3",
    "execution_start": 1647287782333,
    "execution_millis": 13,
    "deepnote_cell_type": "code",
    "deepnote_cell_height": 261
   },
   "outputs": [],
   "execution_count": 59
  },
  {
   "cell_type": "code",
   "source": "data_gorev3 = data.loc[(data['isinma_tipi']=='Merkezi')|(data['isinma_tipi'] == 'Merkezi(PayÖlçer)')&(data['katlar']>=2), 'ilce']\ndata_gorev3 = pd.DataFrame(data_gorev3, columns=['ilce'])\nsns.histplot(data=data_gorev3, y='ilce')\nplt.title('Görev3\\nİlçelere Göre Merkezi Isıtma Sistemi Bulunan ve 2. kattan Yüksek olan Daireler\\n')\nplt.show()",
   "metadata": {
    "cell_id": "2ef715f1-1d92-4e9f-9ca2-c3be1438226d",
    "tags": [],
    "deepnote_to_be_reexecuted": false,
    "source_hash": "20c65856",
    "execution_start": 1647288846614,
    "execution_millis": 298,
    "deepnote_cell_type": "code",
    "deepnote_cell_height": 373.34375,
    "deepnote_output_heights": [
     204.34375
    ]
   },
   "outputs": [
    {
     "data": {
      "text/plain": "<Figure size 432x288 with 1 Axes>",
      "image/png": "[encoded data removed]"
     },
     "metadata": {
      "image/png": {
       "width": 785,
       "height": 353
      }
     },
     "output_type": "display_data"
    }
   ],
   "execution_count": 69
  },
  {
   "cell_type": "markdown",
   "source": "As we can see from the graph,'merkezi' and 'merkezi(payölçer)' are most common in Çankaya and Keçiören. Meanwhile it has less use in Sincan,Mamak as they never, or scarcely, use such a  heating system.",
   "metadata": {
    "cell_id": "ba59cac5-bc02-4cd6-8077-7a29f6e3d685",
    "tags": [],
    "deepnote_cell_type": "markdown",
    "deepnote_cell_height": 119.5625
   }
  },
  {
   "cell_type": "markdown",
   "source": "### 4.",
   "metadata": {
    "cell_id": "8376f6ee-9774-431f-ac7f-f23e711bb4e2",
    "tags": [],
    "is_collapsed": false,
    "deepnote_cell_type": "text-cell-h3",
    "deepnote_cell_height": 62
   }
  },
  {
   "cell_type": "code",
   "source": "import pandas as pd\npd.plotting.register_matplotlib_converters()\nimport matplotlib.pyplot as plt\n%matplotlib inline\nimport seaborn as sns\nprint(\"Setup Complete\")",
   "metadata": {
    "cell_id": "0f1662b8-bd4a-47da-9268-e19f3b414ea4",
    "tags": [],
    "deepnote_to_be_reexecuted": false,
    "source_hash": "8c5de9c9",
    "execution_start": 1647287782527,
    "execution_millis": 9,
    "deepnote_cell_type": "code",
    "deepnote_cell_height": 202.1875
   },
   "outputs": [
    {
     "name": "stdout",
     "text": "Setup Complete\n",
     "output_type": "stream"
    }
   ],
   "execution_count": 61
  },
  {
   "cell_type": "code",
   "source": "sns.set_theme(style=\"darkgrid\")\nsns.swarmplot(x=\"ilce\", y=\"fiyat\", hue=\"eğitim\",\n                   data=data, palette=\"Set2\", dodge=True)\nplt.show()",
   "metadata": {
    "cell_id": "20812844-4be9-45fc-b471-2ef88569089c",
    "tags": [],
    "deepnote_to_be_reexecuted": false,
    "source_hash": "dbc6cafa",
    "execution_start": 1647287782539,
    "execution_millis": 6682,
    "deepnote_cell_type": "code",
    "deepnote_cell_height": 432,
    "deepnote_output_heights": [
     281,
     281
    ]
   },
   "outputs": [
    {
     "data": {
      "text/plain": "<Figure size 432x288 with 1 Axes>",
      "image/png": "[encoded data removed]"
     },
     "metadata": {
      "image/png": {
       "width": 393,
       "height": 279
      }
     },
     "output_type": "display_data"
    }
   ],
   "execution_count": 62
  },
  {
   "cell_type": "markdown",
   "source": "First of all, we visualized the variables of 'ilce', 'fiyat' and 'eğitim' to get a forethought. ",
   "metadata": {
    "cell_id": "240f8cd7-06cd-4d88-9883-e24871e9cedb",
    "tags": [],
    "deepnote_cell_type": "markdown",
    "deepnote_cell_height": 74.78125
   }
  },
  {
   "cell_type": "code",
   "source": "Görev4 = data.loc[((data['eğitim']=='Lisans') > (data['eğitim']=='Lise'))&(data['fiyat']<5000), 'ilce']",
   "metadata": {
    "cell_id": "f68ec71b-10e4-4c6c-8d1f-f7d4a5b2a5bf",
    "tags": [],
    "deepnote_to_be_reexecuted": false,
    "source_hash": "d140c04",
    "execution_start": 1647287789225,
    "execution_millis": 3,
    "deepnote_cell_type": "code",
    "deepnote_cell_height": 81
   },
   "outputs": [],
   "execution_count": 63
  },
  {
   "cell_type": "code",
   "source": "Görev4 = pd.DataFrame(Görev4, columns=['ilce'])\nsns.countplot(x='ilce', palette=\"Set1\", hue=data[\"eğitim\"], data=Görev4)\nplt.title('Görev 4\\nİlçelere Göre Eğitim (Ev Fiyatı 5000 altında olan)\\n')\nplt.xlabel('İlce')\nplt.show()",
   "metadata": {
    "cell_id": "235c362d-5cb6-479d-8bd2-97ab630a29f6",
    "tags": [],
    "deepnote_to_be_reexecuted": false,
    "source_hash": "dc09a517",
    "execution_start": 1647288908330,
    "execution_millis": 203,
    "deepnote_cell_type": "code",
    "deepnote_cell_height": 483.734375,
    "deepnote_output_heights": [
     314.734375
    ]
   },
   "outputs": [
    {
     "data": {
      "text/plain": "<Figure size 432x288 with 1 Axes>",
      "image/png": "[encoded data removed]"
     },
     "metadata": {
      "image/png": {
       "width": 491,
       "height": 353
      }
     },
     "output_type": "display_data"
    }
   ],
   "execution_count": 72
  },
  {
   "cell_type": "markdown",
   "source": "Then, we wrote down the conditions to see which 'ilce' should be preferred by someone who wants to live in a 'ilce' with a high rate of 'Lisans' students and in a house with a price of less than 5000. According to the inferences made from the chart, it was decided that Çankaya was the best option as the province with a high rate of undergraduates and houses with a price of less than 5000 because of there was not enough data in other provinces for 'Lisans students'.",
   "metadata": {
    "cell_id": "41e8df0b-6ce5-4485-8fe7-209f35cec172",
    "tags": [],
    "deepnote_cell_type": "markdown",
    "deepnote_cell_height": 209.125
   }
  },
  {
   "cell_type": "markdown",
   "source": "### 5.",
   "metadata": {
    "cell_id": "71fa7d9a-ce55-4857-86c2-08c9226aa269",
    "tags": [],
    "is_collapsed": false,
    "deepnote_cell_type": "text-cell-h3",
    "deepnote_cell_height": 62
   }
  },
  {
   "cell_type": "code",
   "source": "sns.set_context('talk', font_scale=1.1)\nplt.figure(figsize=(9, 6))\nsns.scatterplot(data.fiyat, data.ilce, data=data,\n               sizes=(200, 500), hue=\"isinma_tipi\", \n                alpha=0.9, palette=\"deep\")\nplt.xlabel(\"Fiyat\")\nplt.ylabel(\"İlçe\")\nplt.title(\"Görev 5\\nİlçelere Göre Isınma Tipi Fiyatları Değişimi\\n\")\nplt.legend(bbox_to_anchor = (1.01, 1), borderaxespad=0)\nplt.show()\n",
   "metadata": {
    "cell_id": "7d1de5fe-2b73-4dc6-b7fe-cbcfe3f5af5d",
    "tags": [],
    "deepnote_to_be_reexecuted": false,
    "source_hash": "66ef9cc3",
    "execution_start": 1647288892536,
    "execution_millis": 573,
    "deepnote_cell_type": "code",
    "deepnote_cell_height": 519,
    "deepnote_output_heights": [
     242
    ]
   },
   "outputs": [
    {
     "data": {
      "text/plain": "<Figure size 648x432 with 1 Axes>",
      "image/png": "[encoded data removed]"
     },
     "metadata": {
      "image/png": {
       "width": 866,
       "height": 462
      }
     },
     "output_type": "display_data"
    }
   ],
   "execution_count": 71
  },
  {
   "cell_type": "markdown",
   "source": "As we look at different heating systems in each 'ilce', it is observable that 'kombi' is the cheapest among all 'isinma_tipi' feature values. In Çankaya, 'Merkezi' and 'Merkezi(PayÖlçer)' has some cheaper options. In this feature analysis, unstability of 'ilce' feature would not affect the overall result as kombi is cheapest in all sample areas.\n\n",
   "metadata": {
    "cell_id": "66bb66bb-d1b8-467f-b3cd-392320da08b9",
    "tags": [],
    "deepnote_cell_type": "markdown",
    "deepnote_cell_height": 164.34375
   }
  },
  {
   "cell_type": "markdown",
   "source": "<a style='text-decoration:none;line-height:16px;display:flex;color:#5B5B62;padding:10px;justify-content:end;' href='https://deepnote.com?utm_source=created-in-deepnote-cell&projectId=860198db-9667-45d1-be99-8a329e5d65e1' target=\"_blank\">\n<img alt='Created in deepnote.com' style='display:inline;max-height:16px;margin:0px;margin-right:7.5px;' src='data:image/svg+xml;base64,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' > </img>\nCreated in <span style='font-weight:600;margin-left:4px;'>Deepnote</span></a>",
   "metadata": {
    "tags": [],
    "created_in_deepnote_cell": true,
    "deepnote_cell_type": "markdown"
   }
  }
 ],
 "nbformat": 4,
 "nbformat_minor": 2,
 "metadata": {
  "orig_nbformat": 2,
  "deepnote": {
   "is_reactive": false
  },
  "deepnote_notebook_id": "b9694295-92fc-4a3f-98b3-f31609abf37a",
  "deepnote_execution_queue": []
 }
}